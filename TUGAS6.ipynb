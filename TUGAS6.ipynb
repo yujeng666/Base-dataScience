{
  "nbformat": 4,
  "nbformat_minor": 0,
  "metadata": {
    "colab": {
      "provenance": []
    },
    "kernelspec": {
      "name": "python3",
      "display_name": "Python 3"
    },
    "language_info": {
      "name": "python"
    }
  },
  "cells": [
    {
      "cell_type": "code",
      "execution_count": null,
      "metadata": {
        "colab": {
          "base_uri": "https://localhost:8080/"
        },
        "id": "XbEVw7rLcGzq",
        "outputId": "b69c9447-c573-4af9-c774-3f2c565d1c14"
      },
      "outputs": [
        {
          "output_type": "stream",
          "name": "stdout",
          "text": [
            "Drive already mounted at /content/drive; to attempt to forcibly remount, call drive.mount(\"/content/drive\", force_remount=True).\n"
          ]
        }
      ],
      "source": [
        "import pandas as pd\n",
        "from google.colab import drive\n",
        "drive.mount('/content/drive')"
      ]
    },
    {
      "cell_type": "code",
      "source": [
        "path ='/content/drive/MyDrive/CSV/tugas - Sheet1.csv'\n",
        "df = pd.read_csv(path)\n",
        "df.describe()"
      ],
      "metadata": {
        "colab": {
          "base_uri": "https://localhost:8080/",
          "height": 300
        },
        "id": "d0rsgUuEg4Wk",
        "outputId": "8e9c43bb-2d96-4271-80e0-57a8910ed11d"
      },
      "execution_count": null,
      "outputs": [
        {
          "output_type": "execute_result",
          "data": {
            "text/plain": [
              "            No.  Jumlah RW  Jumlah Kepala Keluarga  Rata2 Usia  Keluarga\n",
              "count  50.00000  50.000000               50.000000             50.000000\n",
              "mean   25.50000   9.920000               32.180000             38.978000\n",
              "std    14.57738   4.810024               11.910705             10.041695\n",
              "min     1.00000   2.000000               13.000000             24.900000\n",
              "25%    13.25000   5.250000               24.000000             30.325000\n",
              "50%    25.50000  10.000000               29.500000             36.650000\n",
              "75%    37.75000  13.750000               40.750000             45.625000\n",
              "max    50.00000  20.000000               59.000000             59.400000"
            ],
            "text/html": [
              "\n",
              "  <div id=\"df-10ce1e5c-da65-46d2-900e-8f8f8d4f2dcf\">\n",
              "    <div class=\"colab-df-container\">\n",
              "      <div>\n",
              "<style scoped>\n",
              "    .dataframe tbody tr th:only-of-type {\n",
              "        vertical-align: middle;\n",
              "    }\n",
              "\n",
              "    .dataframe tbody tr th {\n",
              "        vertical-align: top;\n",
              "    }\n",
              "\n",
              "    .dataframe thead th {\n",
              "        text-align: right;\n",
              "    }\n",
              "</style>\n",
              "<table border=\"1\" class=\"dataframe\">\n",
              "  <thead>\n",
              "    <tr style=\"text-align: right;\">\n",
              "      <th></th>\n",
              "      <th>No.</th>\n",
              "      <th>Jumlah RW</th>\n",
              "      <th>Jumlah Kepala Keluarga</th>\n",
              "      <th>Rata2 Usia  Keluarga</th>\n",
              "    </tr>\n",
              "  </thead>\n",
              "  <tbody>\n",
              "    <tr>\n",
              "      <th>count</th>\n",
              "      <td>50.00000</td>\n",
              "      <td>50.000000</td>\n",
              "      <td>50.000000</td>\n",
              "      <td>50.000000</td>\n",
              "    </tr>\n",
              "    <tr>\n",
              "      <th>mean</th>\n",
              "      <td>25.50000</td>\n",
              "      <td>9.920000</td>\n",
              "      <td>32.180000</td>\n",
              "      <td>38.978000</td>\n",
              "    </tr>\n",
              "    <tr>\n",
              "      <th>std</th>\n",
              "      <td>14.57738</td>\n",
              "      <td>4.810024</td>\n",
              "      <td>11.910705</td>\n",
              "      <td>10.041695</td>\n",
              "    </tr>\n",
              "    <tr>\n",
              "      <th>min</th>\n",
              "      <td>1.00000</td>\n",
              "      <td>2.000000</td>\n",
              "      <td>13.000000</td>\n",
              "      <td>24.900000</td>\n",
              "    </tr>\n",
              "    <tr>\n",
              "      <th>25%</th>\n",
              "      <td>13.25000</td>\n",
              "      <td>5.250000</td>\n",
              "      <td>24.000000</td>\n",
              "      <td>30.325000</td>\n",
              "    </tr>\n",
              "    <tr>\n",
              "      <th>50%</th>\n",
              "      <td>25.50000</td>\n",
              "      <td>10.000000</td>\n",
              "      <td>29.500000</td>\n",
              "      <td>36.650000</td>\n",
              "    </tr>\n",
              "    <tr>\n",
              "      <th>75%</th>\n",
              "      <td>37.75000</td>\n",
              "      <td>13.750000</td>\n",
              "      <td>40.750000</td>\n",
              "      <td>45.625000</td>\n",
              "    </tr>\n",
              "    <tr>\n",
              "      <th>max</th>\n",
              "      <td>50.00000</td>\n",
              "      <td>20.000000</td>\n",
              "      <td>59.000000</td>\n",
              "      <td>59.400000</td>\n",
              "    </tr>\n",
              "  </tbody>\n",
              "</table>\n",
              "</div>\n",
              "      <button class=\"colab-df-convert\" onclick=\"convertToInteractive('df-10ce1e5c-da65-46d2-900e-8f8f8d4f2dcf')\"\n",
              "              title=\"Convert this dataframe to an interactive table.\"\n",
              "              style=\"display:none;\">\n",
              "        \n",
              "  <svg xmlns=\"http://www.w3.org/2000/svg\" height=\"24px\"viewBox=\"0 0 24 24\"\n",
              "       width=\"24px\">\n",
              "    <path d=\"M0 0h24v24H0V0z\" fill=\"none\"/>\n",
              "    <path d=\"M18.56 5.44l.94 2.06.94-2.06 2.06-.94-2.06-.94-.94-2.06-.94 2.06-2.06.94zm-11 1L8.5 8.5l.94-2.06 2.06-.94-2.06-.94L8.5 2.5l-.94 2.06-2.06.94zm10 10l.94 2.06.94-2.06 2.06-.94-2.06-.94-.94-2.06-.94 2.06-2.06.94z\"/><path d=\"M17.41 7.96l-1.37-1.37c-.4-.4-.92-.59-1.43-.59-.52 0-1.04.2-1.43.59L10.3 9.45l-7.72 7.72c-.78.78-.78 2.05 0 2.83L4 21.41c.39.39.9.59 1.41.59.51 0 1.02-.2 1.41-.59l7.78-7.78 2.81-2.81c.8-.78.8-2.07 0-2.86zM5.41 20L4 18.59l7.72-7.72 1.47 1.35L5.41 20z\"/>\n",
              "  </svg>\n",
              "      </button>\n",
              "      \n",
              "  <style>\n",
              "    .colab-df-container {\n",
              "      display:flex;\n",
              "      flex-wrap:wrap;\n",
              "      gap: 12px;\n",
              "    }\n",
              "\n",
              "    .colab-df-convert {\n",
              "      background-color: #E8F0FE;\n",
              "      border: none;\n",
              "      border-radius: 50%;\n",
              "      cursor: pointer;\n",
              "      display: none;\n",
              "      fill: #1967D2;\n",
              "      height: 32px;\n",
              "      padding: 0 0 0 0;\n",
              "      width: 32px;\n",
              "    }\n",
              "\n",
              "    .colab-df-convert:hover {\n",
              "      background-color: #E2EBFA;\n",
              "      box-shadow: 0px 1px 2px rgba(60, 64, 67, 0.3), 0px 1px 3px 1px rgba(60, 64, 67, 0.15);\n",
              "      fill: #174EA6;\n",
              "    }\n",
              "\n",
              "    [theme=dark] .colab-df-convert {\n",
              "      background-color: #3B4455;\n",
              "      fill: #D2E3FC;\n",
              "    }\n",
              "\n",
              "    [theme=dark] .colab-df-convert:hover {\n",
              "      background-color: #434B5C;\n",
              "      box-shadow: 0px 1px 3px 1px rgba(0, 0, 0, 0.15);\n",
              "      filter: drop-shadow(0px 1px 2px rgba(0, 0, 0, 0.3));\n",
              "      fill: #FFFFFF;\n",
              "    }\n",
              "  </style>\n",
              "\n",
              "      <script>\n",
              "        const buttonEl =\n",
              "          document.querySelector('#df-10ce1e5c-da65-46d2-900e-8f8f8d4f2dcf button.colab-df-convert');\n",
              "        buttonEl.style.display =\n",
              "          google.colab.kernel.accessAllowed ? 'block' : 'none';\n",
              "\n",
              "        async function convertToInteractive(key) {\n",
              "          const element = document.querySelector('#df-10ce1e5c-da65-46d2-900e-8f8f8d4f2dcf');\n",
              "          const dataTable =\n",
              "            await google.colab.kernel.invokeFunction('convertToInteractive',\n",
              "                                                     [key], {});\n",
              "          if (!dataTable) return;\n",
              "\n",
              "          const docLinkHtml = 'Like what you see? Visit the ' +\n",
              "            '<a target=\"_blank\" href=https://colab.research.google.com/notebooks/data_table.ipynb>data table notebook</a>'\n",
              "            + ' to learn more about interactive tables.';\n",
              "          element.innerHTML = '';\n",
              "          dataTable['output_type'] = 'display_data';\n",
              "          await google.colab.output.renderOutput(dataTable, element);\n",
              "          const docLink = document.createElement('div');\n",
              "          docLink.innerHTML = docLinkHtml;\n",
              "          element.appendChild(docLink);\n",
              "        }\n",
              "      </script>\n",
              "    </div>\n",
              "  </div>\n",
              "  "
            ]
          },
          "metadata": {},
          "execution_count": 2
        }
      ]
    },
    {
      "cell_type": "code",
      "source": [
        "df.info"
      ],
      "metadata": {
        "colab": {
          "base_uri": "https://localhost:8080/"
        },
        "id": "bkA8c8GWlZdl",
        "outputId": "66bcea10-ed7d-4af2-beab-30dbe2ca7d6c"
      },
      "execution_count": null,
      "outputs": [
        {
          "output_type": "execute_result",
          "data": {
            "text/plain": [
              "<bound method DataFrame.info of     No. Daerah  Jumlah RW  Jumlah Kepala Keluarga  Rata2 Usia  Keluarga  \\\n",
              "0     1      A          5                      20                  36.5   \n",
              "1     2      B          4                      18                  42.9   \n",
              "2     3      C          9                      30                  51.6   \n",
              "3     4      D         12                      42                  41.5   \n",
              "4     5      B          4                      50                  32.6   \n",
              "5     6      F         15                      16                  28.9   \n",
              "6     7      D         18                      28                  27.5   \n",
              "7     8      E         11                      36                  36.4   \n",
              "8     9      F         10                      28                  45.7   \n",
              "9    10      A          8                      52                  54.6   \n",
              "10   11      B         14                      43                  29.5   \n",
              "11   12      F         13                      13                  41.8   \n",
              "12   13      D         10                      25                  33.5   \n",
              "13   14      F          8                      30                  27.9   \n",
              "14   15      E          5                      27                  57.6   \n",
              "15   16      C          4                      48                  25.7   \n",
              "16   17      D          6                      45                  34.9   \n",
              "17   18      B          7                      35                  42.9   \n",
              "18   19      E          8                      26                  55.8   \n",
              "19   20      E         11                      18                  32.5   \n",
              "20   21      F         14                      39                  40.5   \n",
              "21   22      E         16                      29                  38.5   \n",
              "22   23      C          4                      24                  24.9   \n",
              "23   24      D         16                      29                  29.8   \n",
              "24   25      A         14                      16                  41.8   \n",
              "25   26      A          7                      58                  35.7   \n",
              "26   27      E         12                      41                  56.8   \n",
              "27   28      B          9                      21                  59.4   \n",
              "28   29      B         18                      34                  51.5   \n",
              "29   30      D         20                      24                  46.8   \n",
              "30   31      B         15                      46                  25.6   \n",
              "31   32      F         13                      33                  37.4   \n",
              "32   33      E          4                      17                  29.6   \n",
              "33   34      D          2                      26                  48.9   \n",
              "34   35      A          3                      39                  54.9   \n",
              "35   36      C         15                      42                  35.7   \n",
              "36   37      E         10                      28                  24.9   \n",
              "37   38      F          9                      34                  42.9   \n",
              "38   39      E         12                      55                  25.8   \n",
              "39   40      D          5                      59                  50.8   \n",
              "40   41      E          6                      40                  31.9   \n",
              "41   42      D          3                      20                  35.8   \n",
              "42   43      F         12                      23                  28.6   \n",
              "43   44      A         19                      15                  52.6   \n",
              "44   45      A         17                      35                  45.4   \n",
              "45   46      B          9                      28                  35.8   \n",
              "46   47      D         11                      30                  40.8   \n",
              "47   48      D          5                      18                  36.8   \n",
              "48   49      F          4                      29                  24.9   \n",
              "49   50      E         10                      47                  33.8   \n",
              "\n",
              "   Nominal Bantuan  \n",
              "0          600.000  \n",
              "1        1.200.000  \n",
              "2          800.000  \n",
              "3        1.200.000  \n",
              "4        1.500.000  \n",
              "5        1.000.000  \n",
              "6          600.000  \n",
              "7          800.000  \n",
              "8        1.200.000  \n",
              "9        1.500.000  \n",
              "10         800.000  \n",
              "11         600.000  \n",
              "12       1.000.000  \n",
              "13         800.000  \n",
              "14       1.000.000  \n",
              "15         800.000  \n",
              "16       1.500.000  \n",
              "17         800.000  \n",
              "18         600.000  \n",
              "19         600.000  \n",
              "20         800.000  \n",
              "21       1.500.000  \n",
              "22         600.000  \n",
              "23       1.500.000  \n",
              "24       1.000.000  \n",
              "25         800.000  \n",
              "26       1.200.000  \n",
              "27         600.000  \n",
              "28       1.500.000  \n",
              "29       1.200.000  \n",
              "30       1.000.000  \n",
              "31         600.000  \n",
              "32       1.200.000  \n",
              "33       1.000.000  \n",
              "34       1.200.000  \n",
              "35         800.000  \n",
              "36       1.000.000  \n",
              "37       1.200.000  \n",
              "38         800.000  \n",
              "39       1.200.000  \n",
              "40         800.000  \n",
              "41       1.500.000  \n",
              "42         600.000  \n",
              "43       1.200.000  \n",
              "44       1.000.000  \n",
              "45       1.200.000  \n",
              "46         800.000  \n",
              "47       1.500.000  \n",
              "48       1.000.000  \n",
              "49         600.000  >"
            ]
          },
          "metadata": {},
          "execution_count": 3
        }
      ]
    },
    {
      "cell_type": "code",
      "source": [
        "df"
      ],
      "metadata": {
        "colab": {
          "base_uri": "https://localhost:8080/",
          "height": 1000
        },
        "id": "rr0zH4BSlbQq",
        "outputId": "a867aebb-3324-4f42-cbba-bd6d0a2608ec"
      },
      "execution_count": null,
      "outputs": [
        {
          "output_type": "execute_result",
          "data": {
            "text/plain": [
              "    No. Daerah  Jumlah RW  Jumlah Kepala Keluarga  Rata2 Usia  Keluarga  \\\n",
              "0     1      A          5                      20                  36.5   \n",
              "1     2      B          4                      18                  42.9   \n",
              "2     3      C          9                      30                  51.6   \n",
              "3     4      D         12                      42                  41.5   \n",
              "4     5      B          4                      50                  32.6   \n",
              "5     6      F         15                      16                  28.9   \n",
              "6     7      D         18                      28                  27.5   \n",
              "7     8      E         11                      36                  36.4   \n",
              "8     9      F         10                      28                  45.7   \n",
              "9    10      A          8                      52                  54.6   \n",
              "10   11      B         14                      43                  29.5   \n",
              "11   12      F         13                      13                  41.8   \n",
              "12   13      D         10                      25                  33.5   \n",
              "13   14      F          8                      30                  27.9   \n",
              "14   15      E          5                      27                  57.6   \n",
              "15   16      C          4                      48                  25.7   \n",
              "16   17      D          6                      45                  34.9   \n",
              "17   18      B          7                      35                  42.9   \n",
              "18   19      E          8                      26                  55.8   \n",
              "19   20      E         11                      18                  32.5   \n",
              "20   21      F         14                      39                  40.5   \n",
              "21   22      E         16                      29                  38.5   \n",
              "22   23      C          4                      24                  24.9   \n",
              "23   24      D         16                      29                  29.8   \n",
              "24   25      A         14                      16                  41.8   \n",
              "25   26      A          7                      58                  35.7   \n",
              "26   27      E         12                      41                  56.8   \n",
              "27   28      B          9                      21                  59.4   \n",
              "28   29      B         18                      34                  51.5   \n",
              "29   30      D         20                      24                  46.8   \n",
              "30   31      B         15                      46                  25.6   \n",
              "31   32      F         13                      33                  37.4   \n",
              "32   33      E          4                      17                  29.6   \n",
              "33   34      D          2                      26                  48.9   \n",
              "34   35      A          3                      39                  54.9   \n",
              "35   36      C         15                      42                  35.7   \n",
              "36   37      E         10                      28                  24.9   \n",
              "37   38      F          9                      34                  42.9   \n",
              "38   39      E         12                      55                  25.8   \n",
              "39   40      D          5                      59                  50.8   \n",
              "40   41      E          6                      40                  31.9   \n",
              "41   42      D          3                      20                  35.8   \n",
              "42   43      F         12                      23                  28.6   \n",
              "43   44      A         19                      15                  52.6   \n",
              "44   45      A         17                      35                  45.4   \n",
              "45   46      B          9                      28                  35.8   \n",
              "46   47      D         11                      30                  40.8   \n",
              "47   48      D          5                      18                  36.8   \n",
              "48   49      F          4                      29                  24.9   \n",
              "49   50      E         10                      47                  33.8   \n",
              "\n",
              "   Nominal Bantuan  \n",
              "0          600.000  \n",
              "1        1.200.000  \n",
              "2          800.000  \n",
              "3        1.200.000  \n",
              "4        1.500.000  \n",
              "5        1.000.000  \n",
              "6          600.000  \n",
              "7          800.000  \n",
              "8        1.200.000  \n",
              "9        1.500.000  \n",
              "10         800.000  \n",
              "11         600.000  \n",
              "12       1.000.000  \n",
              "13         800.000  \n",
              "14       1.000.000  \n",
              "15         800.000  \n",
              "16       1.500.000  \n",
              "17         800.000  \n",
              "18         600.000  \n",
              "19         600.000  \n",
              "20         800.000  \n",
              "21       1.500.000  \n",
              "22         600.000  \n",
              "23       1.500.000  \n",
              "24       1.000.000  \n",
              "25         800.000  \n",
              "26       1.200.000  \n",
              "27         600.000  \n",
              "28       1.500.000  \n",
              "29       1.200.000  \n",
              "30       1.000.000  \n",
              "31         600.000  \n",
              "32       1.200.000  \n",
              "33       1.000.000  \n",
              "34       1.200.000  \n",
              "35         800.000  \n",
              "36       1.000.000  \n",
              "37       1.200.000  \n",
              "38         800.000  \n",
              "39       1.200.000  \n",
              "40         800.000  \n",
              "41       1.500.000  \n",
              "42         600.000  \n",
              "43       1.200.000  \n",
              "44       1.000.000  \n",
              "45       1.200.000  \n",
              "46         800.000  \n",
              "47       1.500.000  \n",
              "48       1.000.000  \n",
              "49         600.000  "
            ],
            "text/html": [
              "\n",
              "  <div id=\"df-b2a36e18-4496-4180-afb3-64047a27ee7c\">\n",
              "    <div class=\"colab-df-container\">\n",
              "      <div>\n",
              "<style scoped>\n",
              "    .dataframe tbody tr th:only-of-type {\n",
              "        vertical-align: middle;\n",
              "    }\n",
              "\n",
              "    .dataframe tbody tr th {\n",
              "        vertical-align: top;\n",
              "    }\n",
              "\n",
              "    .dataframe thead th {\n",
              "        text-align: right;\n",
              "    }\n",
              "</style>\n",
              "<table border=\"1\" class=\"dataframe\">\n",
              "  <thead>\n",
              "    <tr style=\"text-align: right;\">\n",
              "      <th></th>\n",
              "      <th>No.</th>\n",
              "      <th>Daerah</th>\n",
              "      <th>Jumlah RW</th>\n",
              "      <th>Jumlah Kepala Keluarga</th>\n",
              "      <th>Rata2 Usia  Keluarga</th>\n",
              "      <th>Nominal Bantuan</th>\n",
              "    </tr>\n",
              "  </thead>\n",
              "  <tbody>\n",
              "    <tr>\n",
              "      <th>0</th>\n",
              "      <td>1</td>\n",
              "      <td>A</td>\n",
              "      <td>5</td>\n",
              "      <td>20</td>\n",
              "      <td>36.5</td>\n",
              "      <td>600.000</td>\n",
              "    </tr>\n",
              "    <tr>\n",
              "      <th>1</th>\n",
              "      <td>2</td>\n",
              "      <td>B</td>\n",
              "      <td>4</td>\n",
              "      <td>18</td>\n",
              "      <td>42.9</td>\n",
              "      <td>1.200.000</td>\n",
              "    </tr>\n",
              "    <tr>\n",
              "      <th>2</th>\n",
              "      <td>3</td>\n",
              "      <td>C</td>\n",
              "      <td>9</td>\n",
              "      <td>30</td>\n",
              "      <td>51.6</td>\n",
              "      <td>800.000</td>\n",
              "    </tr>\n",
              "    <tr>\n",
              "      <th>3</th>\n",
              "      <td>4</td>\n",
              "      <td>D</td>\n",
              "      <td>12</td>\n",
              "      <td>42</td>\n",
              "      <td>41.5</td>\n",
              "      <td>1.200.000</td>\n",
              "    </tr>\n",
              "    <tr>\n",
              "      <th>4</th>\n",
              "      <td>5</td>\n",
              "      <td>B</td>\n",
              "      <td>4</td>\n",
              "      <td>50</td>\n",
              "      <td>32.6</td>\n",
              "      <td>1.500.000</td>\n",
              "    </tr>\n",
              "    <tr>\n",
              "      <th>5</th>\n",
              "      <td>6</td>\n",
              "      <td>F</td>\n",
              "      <td>15</td>\n",
              "      <td>16</td>\n",
              "      <td>28.9</td>\n",
              "      <td>1.000.000</td>\n",
              "    </tr>\n",
              "    <tr>\n",
              "      <th>6</th>\n",
              "      <td>7</td>\n",
              "      <td>D</td>\n",
              "      <td>18</td>\n",
              "      <td>28</td>\n",
              "      <td>27.5</td>\n",
              "      <td>600.000</td>\n",
              "    </tr>\n",
              "    <tr>\n",
              "      <th>7</th>\n",
              "      <td>8</td>\n",
              "      <td>E</td>\n",
              "      <td>11</td>\n",
              "      <td>36</td>\n",
              "      <td>36.4</td>\n",
              "      <td>800.000</td>\n",
              "    </tr>\n",
              "    <tr>\n",
              "      <th>8</th>\n",
              "      <td>9</td>\n",
              "      <td>F</td>\n",
              "      <td>10</td>\n",
              "      <td>28</td>\n",
              "      <td>45.7</td>\n",
              "      <td>1.200.000</td>\n",
              "    </tr>\n",
              "    <tr>\n",
              "      <th>9</th>\n",
              "      <td>10</td>\n",
              "      <td>A</td>\n",
              "      <td>8</td>\n",
              "      <td>52</td>\n",
              "      <td>54.6</td>\n",
              "      <td>1.500.000</td>\n",
              "    </tr>\n",
              "    <tr>\n",
              "      <th>10</th>\n",
              "      <td>11</td>\n",
              "      <td>B</td>\n",
              "      <td>14</td>\n",
              "      <td>43</td>\n",
              "      <td>29.5</td>\n",
              "      <td>800.000</td>\n",
              "    </tr>\n",
              "    <tr>\n",
              "      <th>11</th>\n",
              "      <td>12</td>\n",
              "      <td>F</td>\n",
              "      <td>13</td>\n",
              "      <td>13</td>\n",
              "      <td>41.8</td>\n",
              "      <td>600.000</td>\n",
              "    </tr>\n",
              "    <tr>\n",
              "      <th>12</th>\n",
              "      <td>13</td>\n",
              "      <td>D</td>\n",
              "      <td>10</td>\n",
              "      <td>25</td>\n",
              "      <td>33.5</td>\n",
              "      <td>1.000.000</td>\n",
              "    </tr>\n",
              "    <tr>\n",
              "      <th>13</th>\n",
              "      <td>14</td>\n",
              "      <td>F</td>\n",
              "      <td>8</td>\n",
              "      <td>30</td>\n",
              "      <td>27.9</td>\n",
              "      <td>800.000</td>\n",
              "    </tr>\n",
              "    <tr>\n",
              "      <th>14</th>\n",
              "      <td>15</td>\n",
              "      <td>E</td>\n",
              "      <td>5</td>\n",
              "      <td>27</td>\n",
              "      <td>57.6</td>\n",
              "      <td>1.000.000</td>\n",
              "    </tr>\n",
              "    <tr>\n",
              "      <th>15</th>\n",
              "      <td>16</td>\n",
              "      <td>C</td>\n",
              "      <td>4</td>\n",
              "      <td>48</td>\n",
              "      <td>25.7</td>\n",
              "      <td>800.000</td>\n",
              "    </tr>\n",
              "    <tr>\n",
              "      <th>16</th>\n",
              "      <td>17</td>\n",
              "      <td>D</td>\n",
              "      <td>6</td>\n",
              "      <td>45</td>\n",
              "      <td>34.9</td>\n",
              "      <td>1.500.000</td>\n",
              "    </tr>\n",
              "    <tr>\n",
              "      <th>17</th>\n",
              "      <td>18</td>\n",
              "      <td>B</td>\n",
              "      <td>7</td>\n",
              "      <td>35</td>\n",
              "      <td>42.9</td>\n",
              "      <td>800.000</td>\n",
              "    </tr>\n",
              "    <tr>\n",
              "      <th>18</th>\n",
              "      <td>19</td>\n",
              "      <td>E</td>\n",
              "      <td>8</td>\n",
              "      <td>26</td>\n",
              "      <td>55.8</td>\n",
              "      <td>600.000</td>\n",
              "    </tr>\n",
              "    <tr>\n",
              "      <th>19</th>\n",
              "      <td>20</td>\n",
              "      <td>E</td>\n",
              "      <td>11</td>\n",
              "      <td>18</td>\n",
              "      <td>32.5</td>\n",
              "      <td>600.000</td>\n",
              "    </tr>\n",
              "    <tr>\n",
              "      <th>20</th>\n",
              "      <td>21</td>\n",
              "      <td>F</td>\n",
              "      <td>14</td>\n",
              "      <td>39</td>\n",
              "      <td>40.5</td>\n",
              "      <td>800.000</td>\n",
              "    </tr>\n",
              "    <tr>\n",
              "      <th>21</th>\n",
              "      <td>22</td>\n",
              "      <td>E</td>\n",
              "      <td>16</td>\n",
              "      <td>29</td>\n",
              "      <td>38.5</td>\n",
              "      <td>1.500.000</td>\n",
              "    </tr>\n",
              "    <tr>\n",
              "      <th>22</th>\n",
              "      <td>23</td>\n",
              "      <td>C</td>\n",
              "      <td>4</td>\n",
              "      <td>24</td>\n",
              "      <td>24.9</td>\n",
              "      <td>600.000</td>\n",
              "    </tr>\n",
              "    <tr>\n",
              "      <th>23</th>\n",
              "      <td>24</td>\n",
              "      <td>D</td>\n",
              "      <td>16</td>\n",
              "      <td>29</td>\n",
              "      <td>29.8</td>\n",
              "      <td>1.500.000</td>\n",
              "    </tr>\n",
              "    <tr>\n",
              "      <th>24</th>\n",
              "      <td>25</td>\n",
              "      <td>A</td>\n",
              "      <td>14</td>\n",
              "      <td>16</td>\n",
              "      <td>41.8</td>\n",
              "      <td>1.000.000</td>\n",
              "    </tr>\n",
              "    <tr>\n",
              "      <th>25</th>\n",
              "      <td>26</td>\n",
              "      <td>A</td>\n",
              "      <td>7</td>\n",
              "      <td>58</td>\n",
              "      <td>35.7</td>\n",
              "      <td>800.000</td>\n",
              "    </tr>\n",
              "    <tr>\n",
              "      <th>26</th>\n",
              "      <td>27</td>\n",
              "      <td>E</td>\n",
              "      <td>12</td>\n",
              "      <td>41</td>\n",
              "      <td>56.8</td>\n",
              "      <td>1.200.000</td>\n",
              "    </tr>\n",
              "    <tr>\n",
              "      <th>27</th>\n",
              "      <td>28</td>\n",
              "      <td>B</td>\n",
              "      <td>9</td>\n",
              "      <td>21</td>\n",
              "      <td>59.4</td>\n",
              "      <td>600.000</td>\n",
              "    </tr>\n",
              "    <tr>\n",
              "      <th>28</th>\n",
              "      <td>29</td>\n",
              "      <td>B</td>\n",
              "      <td>18</td>\n",
              "      <td>34</td>\n",
              "      <td>51.5</td>\n",
              "      <td>1.500.000</td>\n",
              "    </tr>\n",
              "    <tr>\n",
              "      <th>29</th>\n",
              "      <td>30</td>\n",
              "      <td>D</td>\n",
              "      <td>20</td>\n",
              "      <td>24</td>\n",
              "      <td>46.8</td>\n",
              "      <td>1.200.000</td>\n",
              "    </tr>\n",
              "    <tr>\n",
              "      <th>30</th>\n",
              "      <td>31</td>\n",
              "      <td>B</td>\n",
              "      <td>15</td>\n",
              "      <td>46</td>\n",
              "      <td>25.6</td>\n",
              "      <td>1.000.000</td>\n",
              "    </tr>\n",
              "    <tr>\n",
              "      <th>31</th>\n",
              "      <td>32</td>\n",
              "      <td>F</td>\n",
              "      <td>13</td>\n",
              "      <td>33</td>\n",
              "      <td>37.4</td>\n",
              "      <td>600.000</td>\n",
              "    </tr>\n",
              "    <tr>\n",
              "      <th>32</th>\n",
              "      <td>33</td>\n",
              "      <td>E</td>\n",
              "      <td>4</td>\n",
              "      <td>17</td>\n",
              "      <td>29.6</td>\n",
              "      <td>1.200.000</td>\n",
              "    </tr>\n",
              "    <tr>\n",
              "      <th>33</th>\n",
              "      <td>34</td>\n",
              "      <td>D</td>\n",
              "      <td>2</td>\n",
              "      <td>26</td>\n",
              "      <td>48.9</td>\n",
              "      <td>1.000.000</td>\n",
              "    </tr>\n",
              "    <tr>\n",
              "      <th>34</th>\n",
              "      <td>35</td>\n",
              "      <td>A</td>\n",
              "      <td>3</td>\n",
              "      <td>39</td>\n",
              "      <td>54.9</td>\n",
              "      <td>1.200.000</td>\n",
              "    </tr>\n",
              "    <tr>\n",
              "      <th>35</th>\n",
              "      <td>36</td>\n",
              "      <td>C</td>\n",
              "      <td>15</td>\n",
              "      <td>42</td>\n",
              "      <td>35.7</td>\n",
              "      <td>800.000</td>\n",
              "    </tr>\n",
              "    <tr>\n",
              "      <th>36</th>\n",
              "      <td>37</td>\n",
              "      <td>E</td>\n",
              "      <td>10</td>\n",
              "      <td>28</td>\n",
              "      <td>24.9</td>\n",
              "      <td>1.000.000</td>\n",
              "    </tr>\n",
              "    <tr>\n",
              "      <th>37</th>\n",
              "      <td>38</td>\n",
              "      <td>F</td>\n",
              "      <td>9</td>\n",
              "      <td>34</td>\n",
              "      <td>42.9</td>\n",
              "      <td>1.200.000</td>\n",
              "    </tr>\n",
              "    <tr>\n",
              "      <th>38</th>\n",
              "      <td>39</td>\n",
              "      <td>E</td>\n",
              "      <td>12</td>\n",
              "      <td>55</td>\n",
              "      <td>25.8</td>\n",
              "      <td>800.000</td>\n",
              "    </tr>\n",
              "    <tr>\n",
              "      <th>39</th>\n",
              "      <td>40</td>\n",
              "      <td>D</td>\n",
              "      <td>5</td>\n",
              "      <td>59</td>\n",
              "      <td>50.8</td>\n",
              "      <td>1.200.000</td>\n",
              "    </tr>\n",
              "    <tr>\n",
              "      <th>40</th>\n",
              "      <td>41</td>\n",
              "      <td>E</td>\n",
              "      <td>6</td>\n",
              "      <td>40</td>\n",
              "      <td>31.9</td>\n",
              "      <td>800.000</td>\n",
              "    </tr>\n",
              "    <tr>\n",
              "      <th>41</th>\n",
              "      <td>42</td>\n",
              "      <td>D</td>\n",
              "      <td>3</td>\n",
              "      <td>20</td>\n",
              "      <td>35.8</td>\n",
              "      <td>1.500.000</td>\n",
              "    </tr>\n",
              "    <tr>\n",
              "      <th>42</th>\n",
              "      <td>43</td>\n",
              "      <td>F</td>\n",
              "      <td>12</td>\n",
              "      <td>23</td>\n",
              "      <td>28.6</td>\n",
              "      <td>600.000</td>\n",
              "    </tr>\n",
              "    <tr>\n",
              "      <th>43</th>\n",
              "      <td>44</td>\n",
              "      <td>A</td>\n",
              "      <td>19</td>\n",
              "      <td>15</td>\n",
              "      <td>52.6</td>\n",
              "      <td>1.200.000</td>\n",
              "    </tr>\n",
              "    <tr>\n",
              "      <th>44</th>\n",
              "      <td>45</td>\n",
              "      <td>A</td>\n",
              "      <td>17</td>\n",
              "      <td>35</td>\n",
              "      <td>45.4</td>\n",
              "      <td>1.000.000</td>\n",
              "    </tr>\n",
              "    <tr>\n",
              "      <th>45</th>\n",
              "      <td>46</td>\n",
              "      <td>B</td>\n",
              "      <td>9</td>\n",
              "      <td>28</td>\n",
              "      <td>35.8</td>\n",
              "      <td>1.200.000</td>\n",
              "    </tr>\n",
              "    <tr>\n",
              "      <th>46</th>\n",
              "      <td>47</td>\n",
              "      <td>D</td>\n",
              "      <td>11</td>\n",
              "      <td>30</td>\n",
              "      <td>40.8</td>\n",
              "      <td>800.000</td>\n",
              "    </tr>\n",
              "    <tr>\n",
              "      <th>47</th>\n",
              "      <td>48</td>\n",
              "      <td>D</td>\n",
              "      <td>5</td>\n",
              "      <td>18</td>\n",
              "      <td>36.8</td>\n",
              "      <td>1.500.000</td>\n",
              "    </tr>\n",
              "    <tr>\n",
              "      <th>48</th>\n",
              "      <td>49</td>\n",
              "      <td>F</td>\n",
              "      <td>4</td>\n",
              "      <td>29</td>\n",
              "      <td>24.9</td>\n",
              "      <td>1.000.000</td>\n",
              "    </tr>\n",
              "    <tr>\n",
              "      <th>49</th>\n",
              "      <td>50</td>\n",
              "      <td>E</td>\n",
              "      <td>10</td>\n",
              "      <td>47</td>\n",
              "      <td>33.8</td>\n",
              "      <td>600.000</td>\n",
              "    </tr>\n",
              "  </tbody>\n",
              "</table>\n",
              "</div>\n",
              "      <button class=\"colab-df-convert\" onclick=\"convertToInteractive('df-b2a36e18-4496-4180-afb3-64047a27ee7c')\"\n",
              "              title=\"Convert this dataframe to an interactive table.\"\n",
              "              style=\"display:none;\">\n",
              "        \n",
              "  <svg xmlns=\"http://www.w3.org/2000/svg\" height=\"24px\"viewBox=\"0 0 24 24\"\n",
              "       width=\"24px\">\n",
              "    <path d=\"M0 0h24v24H0V0z\" fill=\"none\"/>\n",
              "    <path d=\"M18.56 5.44l.94 2.06.94-2.06 2.06-.94-2.06-.94-.94-2.06-.94 2.06-2.06.94zm-11 1L8.5 8.5l.94-2.06 2.06-.94-2.06-.94L8.5 2.5l-.94 2.06-2.06.94zm10 10l.94 2.06.94-2.06 2.06-.94-2.06-.94-.94-2.06-.94 2.06-2.06.94z\"/><path d=\"M17.41 7.96l-1.37-1.37c-.4-.4-.92-.59-1.43-.59-.52 0-1.04.2-1.43.59L10.3 9.45l-7.72 7.72c-.78.78-.78 2.05 0 2.83L4 21.41c.39.39.9.59 1.41.59.51 0 1.02-.2 1.41-.59l7.78-7.78 2.81-2.81c.8-.78.8-2.07 0-2.86zM5.41 20L4 18.59l7.72-7.72 1.47 1.35L5.41 20z\"/>\n",
              "  </svg>\n",
              "      </button>\n",
              "      \n",
              "  <style>\n",
              "    .colab-df-container {\n",
              "      display:flex;\n",
              "      flex-wrap:wrap;\n",
              "      gap: 12px;\n",
              "    }\n",
              "\n",
              "    .colab-df-convert {\n",
              "      background-color: #E8F0FE;\n",
              "      border: none;\n",
              "      border-radius: 50%;\n",
              "      cursor: pointer;\n",
              "      display: none;\n",
              "      fill: #1967D2;\n",
              "      height: 32px;\n",
              "      padding: 0 0 0 0;\n",
              "      width: 32px;\n",
              "    }\n",
              "\n",
              "    .colab-df-convert:hover {\n",
              "      background-color: #E2EBFA;\n",
              "      box-shadow: 0px 1px 2px rgba(60, 64, 67, 0.3), 0px 1px 3px 1px rgba(60, 64, 67, 0.15);\n",
              "      fill: #174EA6;\n",
              "    }\n",
              "\n",
              "    [theme=dark] .colab-df-convert {\n",
              "      background-color: #3B4455;\n",
              "      fill: #D2E3FC;\n",
              "    }\n",
              "\n",
              "    [theme=dark] .colab-df-convert:hover {\n",
              "      background-color: #434B5C;\n",
              "      box-shadow: 0px 1px 3px 1px rgba(0, 0, 0, 0.15);\n",
              "      filter: drop-shadow(0px 1px 2px rgba(0, 0, 0, 0.3));\n",
              "      fill: #FFFFFF;\n",
              "    }\n",
              "  </style>\n",
              "\n",
              "      <script>\n",
              "        const buttonEl =\n",
              "          document.querySelector('#df-b2a36e18-4496-4180-afb3-64047a27ee7c button.colab-df-convert');\n",
              "        buttonEl.style.display =\n",
              "          google.colab.kernel.accessAllowed ? 'block' : 'none';\n",
              "\n",
              "        async function convertToInteractive(key) {\n",
              "          const element = document.querySelector('#df-b2a36e18-4496-4180-afb3-64047a27ee7c');\n",
              "          const dataTable =\n",
              "            await google.colab.kernel.invokeFunction('convertToInteractive',\n",
              "                                                     [key], {});\n",
              "          if (!dataTable) return;\n",
              "\n",
              "          const docLinkHtml = 'Like what you see? Visit the ' +\n",
              "            '<a target=\"_blank\" href=https://colab.research.google.com/notebooks/data_table.ipynb>data table notebook</a>'\n",
              "            + ' to learn more about interactive tables.';\n",
              "          element.innerHTML = '';\n",
              "          dataTable['output_type'] = 'display_data';\n",
              "          await google.colab.output.renderOutput(dataTable, element);\n",
              "          const docLink = document.createElement('div');\n",
              "          docLink.innerHTML = docLinkHtml;\n",
              "          element.appendChild(docLink);\n",
              "        }\n",
              "      </script>\n",
              "    </div>\n",
              "  </div>\n",
              "  "
            ]
          },
          "metadata": {},
          "execution_count": 4
        }
      ]
    },
    {
      "cell_type": "code",
      "source": [
        "import matplotlib.pyplot as plt\n",
        "\n",
        "plt.scatter(df['Daerah'],df['Jumlah RW'])\n",
        "plt.title(\"Data rw di tiap daerah\")\n",
        "plt.xlabel(\"Daerah\")\n",
        "plt.ylabel(\"Jumlah RW\")\n",
        "plt.grid(True)\n",
        "plt.show()"
      ],
      "metadata": {
        "colab": {
          "base_uri": "https://localhost:8080/",
          "height": 295
        },
        "id": "22DzCrBVlg0D",
        "outputId": "3bd888f2-69b8-4bf9-c38b-f750bc3e7263"
      },
      "execution_count": null,
      "outputs": [
        {
          "output_type": "display_data",
          "data": {
            "text/plain": [
              "<Figure size 432x288 with 1 Axes>"
            ],
            "image/png": "[encoded data removed]"
          },
          "metadata": {
            "needs_background": "light"
          }
        }
      ]
    },
    {
      "cell_type": "code",
      "source": [
        "print(\"====== SOAL 1 ======\")\n",
        "A = (5 + 8 + 14 + 7 + 3 + 19 + 17)\n",
        "print(\"jumlah Rw di daerah A adalah : \"+ str(A))\n",
        "\n",
        "B = (4 + 4 + 14 + 7 + 9 + 18 + 15 + 9)\n",
        "print(\"jumlah Rw di daerah B adalah : \"+ str(B))\n",
        "\n",
        "C = (9 + 4 + 4 + 15 )\n",
        "print(\"jumlah Rw di daerah C adalah : \"+ str(C))\n",
        "\n",
        "D = (12 + 18 + 10 + 6 + 16 + 20 + 2 + 5 + 3 + 11 + 5)\n",
        "print(\"jumlah Rw di daerah D adalah : \"+ str(D))\n",
        "\n",
        "E = (11 + 5 + 8 + 11  + 16 + 12 + 4 + 10 + 12 + 6 + 10)\n",
        "print(\"jumlah Rw di daerah E adalah : \"+ str(E))\n",
        "hasil= (A + B + C + D + E)\n",
        "print(\"maka total dari semua RW adalah : \" + str(hasil))\n",
        "print()\n",
        "A = (20 + 52 + 16 + 58 + 39 + 15 + 35)\n",
        "print(\"jumlah KK di daerah A adalah : \"+ str(A))\n",
        "\n",
        "B = (18 + 50 + 43 + 35 + 21 + 34 + 46 + 28)\n",
        "print(\"jumlah KK di daerah B adalah : \"+ str(B))\n",
        "\n",
        "C = (30 + 48 + 24 + 42 )\n",
        "print(\"jumlah KK di daerah C adalah : \"+ str(C))\n",
        "\n",
        "D = (42 + 28 + 25 + 45 + 29 + 24 + 26 + 59 + 20 + 30 + 18)\n",
        "print(\"jumlah KK di daerah D adalah : \"+ str(D))\n",
        "\n",
        "E = (36 + 27 + 26 + 18  + 29 + 41 + 17 + 28 + 55 + 40 + 47)\n",
        "print(\"jumlah kk di daerah E adalah : \"+ str(E))\n",
        "\n",
        "hasila= (A + B + C + D + E)\n",
        "print(\"maka total KK dari semua RW adalah : \" + str(hasila))\n",
        "print()\n",
        "import matplotlib.pyplot as plt\n",
        "\n",
        "fig =plt.figure()\n",
        "ax = fig.add_axes([0,0,1,1])\n",
        "daerah = ['A', 'B','C', 'D', ' E',]\n",
        "RW = [73,80,32,108, 105]\n",
        "plt.title(\"Data jumlah RW di tiap daerah\")\n",
        "plt.bar(daerah, RW,)\n",
        "plt.show()\n",
        "\n",
        "fig = plt.figure()\n",
        "ax = fig.add_axes([0, 0, 1,1])\n",
        "ax.axis('equal')\n",
        "daerah = ['A', 'B','C', 'D', ' E',]\n",
        "RW = [73,80,32,108, 105]\n",
        "\n",
        "ax.pie(RW,labels=daerah,autopct='%1.2f%%',)\n",
        "plt.title(\"Data jumlah RW di tiap daerah\")\n",
        "plt.show()\n",
        "print()\n",
        "print()\n",
        "fig =plt.figure()\n",
        "ax = fig.add_axes([0,0,1,1])\n",
        "daerah = ['A', 'B','C', 'D', ' E',]\n",
        "KK = [235,275,144,346, 364]\n",
        "plt.title(\"Data jumlah Kepala Keluarga di tiap daerah\")\n",
        "plt.bar(daerah, KK,)\n",
        "plt.show()\n",
        "\n",
        "fig = plt.figure()\n",
        "ax = fig.add_axes([0, 0, 1,1])\n",
        "ax.axis('equal')\n",
        "daerah = ['A', 'B','C', 'D', ' E',]\n",
        "KK = [235,275,144,346, 364]\n",
        "\n",
        "ax.pie(KK,labels=daerah,autopct='%1.2f%%',)\n",
        "plt.title(\"Data jumlah Kepala Keluarga di tiap daerah\")\n",
        "plt.show()"
      ],
      "metadata": {
        "colab": {
          "base_uri": "https://localhost:8080/",
          "height": 1000
        },
        "id": "JtwsrJn1pOWR",
        "outputId": "1e8bf19b-4de0-4add-e1d7-2f14b3ab52d6"
      },
      "execution_count": null,
      "outputs": [
        {
          "output_type": "stream",
          "name": "stdout",
          "text": [
            "====== SOAL 1 ======\n",
            "jumlah Rw di daerah A adalah : 73\n",
            "jumlah Rw di daerah B adalah : 80\n",
            "jumlah Rw di daerah C adalah : 32\n",
            "jumlah Rw di daerah D adalah : 108\n",
            "jumlah Rw di daerah E adalah : 105\n",
            "maka total dari semua RW adalah : 398\n",
            "\n",
            "jumlah KK di daerah A adalah : 235\n",
            "jumlah KK di daerah B adalah : 275\n",
            "jumlah KK di daerah C adalah : 144\n",
            "jumlah KK di daerah D adalah : 346\n",
            "jumlah kk di daerah E adalah : 364\n",
            "maka total KK dari semua RW adalah : 1364\n",
            "\n"
          ]
        },
        {
          "output_type": "display_data",
          "data": {
            "text/plain": [
              "<Figure size 432x288 with 1 Axes>"
            ],
            "image/png": "[encoded data removed]"
          },
          "metadata": {
            "needs_background": "light"
          }
        },
        {
          "output_type": "display_data",
          "data": {
            "text/plain": [
              "<Figure size 432x288 with 1 Axes>"
            ],
            "image/png": "[encoded data removed]"
          },
          "metadata": {}
        },
        {
          "output_type": "stream",
          "name": "stdout",
          "text": [
            "\n",
            "\n"
          ]
        },
        {
          "output_type": "display_data",
          "data": {
            "text/plain": [
              "<Figure size 432x288 with 1 Axes>"
            ],
            "image/png": "[encoded data removed]"
          },
          "metadata": {
            "needs_background": "light"
          }
        },
        {
          "output_type": "display_data",
          "data": {
            "text/plain": [
              "<Figure size 432x288 with 1 Axes>"
            ],
            "image/png": "[encoded data removed]"
          },
          "metadata": {}
        }
      ]
    },
    {
      "cell_type": "code",
      "source": [
        "\n",
        "print(\"====== SOAL 2 ======\")\n",
        "a = (51.6 + 54.6 + 57.6 +55.8 + 56.8 + 59.4 +51.5 + 54.9 + 50.8 + 52.6 )\n",
        "print(\"usia >50 : \" + str(a))\n",
        "b = (42.9 + 41.5 + 45.7 + 41.8 + 42.9 + 40.5 + 41.8 + 48.9 + 42.9 + 45.4 + 40.8 + 46.8)\n",
        "print(\"usia >40 : \" + str(b))\n",
        "c =(36.5 + 32.6 + 36.4 + 33.5 + 34.9 + 32.5 + 38.5 + 35.7 + 37.4 + 35.7 + 31.9 + 35.8 + 35.8 + 36.8 + 33.8)\n",
        "print(\"usia >30 : \" + str(c))\n",
        "d =(28.9 + 27.5 + 29.5 + 27.9 + 25.7 + 24.9 + 29.8 + 25.6 + 29.6 + 24.9 + 25.8 + 28.6 + 24.9)\n",
        "print(\"usia >20 : \" + str(d))\n",
        "\n",
        "import matplotlib.pyplot as plt\n",
        "fig =plt.figure()\n",
        "ax = fig.add_axes([0,0,1,1])\n",
        "per = ['usia >50', 'usia >40','usia >30', 'usia >20']\n",
        "pen = [545.6,521.9,527.8,353.6]\n",
        "plt.title(\"Data rentang usia\")\n",
        "plt.bar(per, pen,)\n",
        "plt.show()\n",
        "\n",
        "fig = plt.figure()\n",
        "ax = fig.add_axes([0, 0, 1,1])\n",
        "ax.axis('equal')\n",
        "per = ['usia >50', 'usia >40','usia >30', 'usia >20']\n",
        "pen = [545.6,521.9,527.8,353.6]\n",
        "ax.pie(pen,labels=per,autopct='%1.2f%%',)\n",
        "plt.title(\"Data rentang usia\")\n",
        "plt.show()"
      ],
      "metadata": {
        "colab": {
          "base_uri": "https://localhost:8080/",
          "height": 757
        },
        "id": "hDKidaNC34fq",
        "outputId": "c8160f47-bc7f-4842-966b-0311b4abca2c"
      },
      "execution_count": null,
      "outputs": [
        {
          "output_type": "stream",
          "name": "stdout",
          "text": [
            "====== SOAL 2 ======\n",
            "usia >50 : 545.6\n",
            "usia >40 : 521.9\n",
            "usia >30 : 527.8\n",
            "usia >20 : 353.6\n"
          ]
        },
        {
          "output_type": "display_data",
          "data": {
            "text/plain": [
              "<Figure size 432x288 with 1 Axes>"
            ],
            "image/png": "[encoded data removed]"
          },
          "metadata": {
            "needs_background": "light"
          }
        },
        {
          "output_type": "display_data",
          "data": {
            "text/plain": [
              "<Figure size 432x288 with 1 Axes>"
            ],
            "image/png": "[encoded data removed]"
          },
          "metadata": {}
        }
      ]
    },
    {
      "cell_type": "code",
      "source": [
        "print(\"====== SOAL 3 ======\")\n",
        "a = (5+4+9+4+10+8+10+8+5+4+6+7+8+4+7+9+4+2+3+10+9+5+6+3+9+5+10+ 4)\n",
        "print(\"RW <10 : \" + str(a))\n",
        "b = (12+15+18+11+14+13+11+14+16+16+14+12+18+20+15+13+15+12+12+19+17+11)\n",
        "print(\"RW >10 : \" + str(b))\n",
        "\n",
        "bansos =(600000+1200000+800000+1500000+1200000+1500000+1000000+800000+1000000+800000+1500000+800000+600000+600000+800000+600000+1200000+1000000+1200000+1200000+1200000+800000+1500000+1200000+1500000+1000000 +1600000)\n",
        "print(\"total bantuan RW <10 Rp.\" + str(bansos))\n",
        "\n",
        "bantuan=(1200000+1000000+600000+800000+800000+600000+600000+800000+1500000+1500000+1200000+1500000+1200000+1000000+600000+800000+1000000+800000+600000+1200000+1000000+800000)\n",
        "print(\"total bantuan RW >10 Rp.\" + str(bantuan))\n",
        "\n",
        "p1 =(5 * 600000\t)*0.02\n",
        "p2 =(6 * 800000\t)*0.03\n",
        "p3 =(5 * 1000000\t)*0.04\n",
        "p4 =(7 * 1200000\t)*0.05\n",
        "p5 =(5 * 1500000\t)*0.07\n",
        "pajak1 = (p1 + p2+ p3 +p4 +p5)\n",
        "\n",
        "hasil1= (bansos - pajak1 )\n",
        "print(\"total bantuan RW <10 setelah di potong pajak Rp.\"+ str(hasil1))\n",
        "\n",
        "p1 =(5 * 600000\t)*0.02\n",
        "p2 =(6 * 800000\t)*0.03\n",
        "p3 =(4 * 1000000\t)*0.04\n",
        "p4 =(4 * 1200000\t)*0.05\n",
        "p5 =(3 * 1500000\t)*0.07\n",
        "pajak1 = (p1 + p2+ p3 +p4 +p5)\n",
        "hasil2= (bantuan - pajak1 )\n",
        "print(\"total bantuan RW >10 setelah di potong pajak Rp.\"+ str(hasil2))\n"
      ],
      "metadata": {
        "colab": {
          "base_uri": "https://localhost:8080/"
        },
        "id": "h7tpHGwXBTRy",
        "outputId": "389bcd0a-2e98-46c5-b44a-1be8be46446b"
      },
      "execution_count": null,
      "outputs": [
        {
          "output_type": "stream",
          "name": "stdout",
          "text": [
            "====== SOAL 3 ======\n",
            "RW <10 : 178\n",
            "RW >10 : 318\n",
            "total bantuan RW <10 Rp.28700000\n",
            "total bantuan RW >10 Rp.21100000\n",
            "total bantuan RW <10 setelah di potong pajak Rp.27351000.0\n",
            "total bantuan RW >10 setelah di potong pajak Rp.20181000.0\n"
          ]
        }
      ]
    },
    {
      "cell_type": "code",
      "source": [
        "print(\"====== SOAL 4 ======\")\n",
        "print(\"Usia >50\")\n",
        "b1 = (800000 + 1500000 + 1000000 + 600000 + 1200000 + 600000 + 1500000 + 1200000 + 1200000 + 1200000)\n",
        "print(\"total bantuan untuk rentang usia >50 Rp.\" + str(b1))\n",
        "\n",
        "print(\"Usia >40\")\n",
        "b2 = (1200000 + 1200000 + 1200000 + 600000 + 800000 + 800000 + 1000000 + 1200000 + 1000000 + 1200000 + 1000000 + 800000)\n",
        "print(\"total bantuan untuk rentang usia >40 Rp.\" + str(b2))\n",
        "\n",
        "print(\"Usia >30\")\n",
        "b3 = (600000 + 1500000 + 800000 + 1000000 + 1500000 + 600000 + 1500000 + 800000 + 600000 + 800000 + 800000 + 1500000 + 1200000 + 1500000 + 600000)\n",
        "print(\"total bantuan untuk rentang usia >30 Rp.\" + str(b3))\n",
        "\n",
        "print(\"Usia >20\")\n",
        "b4 = (1000000 + 600000 + 800000 + 800000 + 800000 + 600000 + 1500000 + 1000000 + 1200000 + 1000000 + 800000 + 600000 + 1000000)\n",
        "print(\"total bantuan untuk rentang usia >20 Rp.\" + str(b4))\n",
        "\n",
        "import matplotlib.pyplot as plt\n",
        "fig =plt.figure()\n",
        "ax = fig.add_axes([0,0,1,1])\n",
        "per = ['usia >50', 'usia >40','usia >30', 'usia >20']\n",
        "pen = [10800000,12000000,15300000,11700000]\n",
        "plt.title(\"Data bantuan berdasarkan rentang usia\")\n",
        "plt.bar(per, pen,)\n",
        "plt.show()\n",
        "\n",
        "fig = plt.figure()\n",
        "ax = fig.add_axes([0, 0, 1,1])\n",
        "ax.axis('equal')\n",
        "per = ['usia >50', 'usia >40','usia >30', 'usia >20']\n",
        "pen = [10800000,12000000,15300000,11700000]\n",
        "ax.pie(pen,labels=per,autopct='%1.2f%%',)\n",
        "plt.title(\"Data  bantuan berdasarkan rentang usia\")\n",
        "plt.show()"
      ],
      "metadata": {
        "colab": {
          "base_uri": "https://localhost:8080/",
          "height": 826
        },
        "id": "zR792AphchPA",
        "outputId": "a6661bf2-5ab9-4c6a-d8ba-ea2ad3c18be8"
      },
      "execution_count": null,
      "outputs": [
        {
          "output_type": "stream",
          "name": "stdout",
          "text": [
            "====== SOAL 4 ======\n",
            "Usia >50\n",
            "total bantuan untuk rentang usia >50 Rp.10800000\n",
            "Usia >40\n",
            "total bantuan untuk rentang usia >40 Rp.12000000\n",
            "Usia >30\n",
            "total bantuan untuk rentang usia >30 Rp.15300000\n",
            "Usia >20\n",
            "total bantuan untuk rentang usia >20 Rp.11700000\n"
          ]
        },
        {
          "output_type": "display_data",
          "data": {
            "text/plain": [
              "<Figure size 432x288 with 1 Axes>"
            ],
            "image/png": "[encoded data removed]"
          },
          "metadata": {
            "needs_background": "light"
          }
        },
        {
          "output_type": "display_data",
          "data": {
            "text/plain": [
              "<Figure size 432x288 with 1 Axes>"
            ],
            "image/png": "[encoded data removed]"
          },
          "metadata": {}
        }
      ]
    },
    {
      "cell_type": "code",
      "source": [
        "print(\"====== SOAL 5 ======\")\n",
        "bansos = (600000 + 1200000 + 800000 + 1200000 + 1500000 + 1000000 + 600000 + 800000 + 1200000 + 1500000 + 800000 + 600000 + 1000000 + 800000 + 1000000 + \n",
        "800000 + 1500000 + 800000 + 600000 + 600000 + 800000 + 1500000 + 600000 + 1500000 + 1000000 + 800000 + 1200000 + 600000 + 1500000 + 1200000 + 1000000 + \n",
        "600000 + 1200000 + 1000000 + 1200000 + 800000 + 1000000 + 1200000 + 800000 + 1200000 + 800000 + 1500000 + 600000 + 1200000 + 1000000 + 1200000 + 800000 + \n",
        "1500000 + 1000000 + 600000)\n",
        "print(\"total keseluruhan bantuan Rp.\" + str(bansos))\n",
        "\n",
        "p1 =(10 * 600000\t)*0.02\n",
        "p2 =(12 * 800000\t)*0.03\n",
        "p3 =(9 * 1000000\t)*0.04\n",
        "p4 =(11 * 1200000\t)*0.05\n",
        "p5 =(8 * 1500000\t)*0.07\n",
        "pajak1 = (p1 + p2+ p3 +p4 +p5)\n",
        "hasil1= (bansos - pajak1 )\n",
        "print(\"total keseluruhan bantuan setelah di potong pajak Rp.\"+ str(hasil1))\n"
      ],
      "metadata": {
        "colab": {
          "base_uri": "https://localhost:8080/"
        },
        "id": "7ave47O3cjYd",
        "outputId": "8399d990-91f7-4d89-a833-9f7142c26f5b"
      },
      "execution_count": null,
      "outputs": [
        {
          "output_type": "stream",
          "name": "stdout",
          "text": [
            "====== SOAL 5 ======\n",
            "total keseluruhan bantuan Rp.49800000\n",
            "total keseluruhan bantuan setelah di potong pajak Rp.47532000.0\n"
          ]
        }
      ]
    },
    {
      "cell_type": "code",
      "source": [
        "path ='/content/drive/MyDrive/CSV/soal6 - Sheet1.csv'\n",
        "df = pd.read_csv(path)\n",
        "df.describe()\n"
      ],
      "metadata": {
        "colab": {
          "base_uri": "https://localhost:8080/",
          "height": 300
        },
        "id": "d7-WUpgG9yaw",
        "outputId": "b8db0514-94ba-4e46-d016-efcdfab017fd"
      },
      "execution_count": null,
      "outputs": [
        {
          "output_type": "execute_result",
          "data": {
            "text/plain": [
              "              no         rw         kk  rata-rata usia\n",
              "count  15.000000  15.000000  15.000000       15.000000\n",
              "mean    8.000000   9.866667  34.740000       44.240000\n",
              "std     4.472136   5.755329  13.539878        8.512075\n",
              "min     1.000000   3.000000  15.000000       29.600000\n",
              "25%     4.500000   4.500000  25.550000       38.500000\n",
              "50%     8.000000   9.000000  34.000000       42.900000\n",
              "75%    11.500000  14.000000  43.500000       51.700000\n",
              "max    15.000000  20.000000  59.000000       56.800000"
            ],
            "text/html": [
              "\n",
              "  <div id=\"df-4dc226ed-f398-47b3-baae-784fea604a60\">\n",
              "    <div class=\"colab-df-container\">\n",
              "      <div>\n",
              "<style scoped>\n",
              "    .dataframe tbody tr th:only-of-type {\n",
              "        vertical-align: middle;\n",
              "    }\n",
              "\n",
              "    .dataframe tbody tr th {\n",
              "        vertical-align: top;\n",
              "    }\n",
              "\n",
              "    .dataframe thead th {\n",
              "        text-align: right;\n",
              "    }\n",
              "</style>\n",
              "<table border=\"1\" class=\"dataframe\">\n",
              "  <thead>\n",
              "    <tr style=\"text-align: right;\">\n",
              "      <th></th>\n",
              "      <th>no</th>\n",
              "      <th>rw</th>\n",
              "      <th>kk</th>\n",
              "      <th>rata-rata usia</th>\n",
              "    </tr>\n",
              "  </thead>\n",
              "  <tbody>\n",
              "    <tr>\n",
              "      <th>count</th>\n",
              "      <td>15.000000</td>\n",
              "      <td>15.000000</td>\n",
              "      <td>15.000000</td>\n",
              "      <td>15.000000</td>\n",
              "    </tr>\n",
              "    <tr>\n",
              "      <th>mean</th>\n",
              "      <td>8.000000</td>\n",
              "      <td>9.866667</td>\n",
              "      <td>34.740000</td>\n",
              "      <td>44.240000</td>\n",
              "    </tr>\n",
              "    <tr>\n",
              "      <th>std</th>\n",
              "      <td>4.472136</td>\n",
              "      <td>5.755329</td>\n",
              "      <td>13.539878</td>\n",
              "      <td>8.512075</td>\n",
              "    </tr>\n",
              "    <tr>\n",
              "      <th>min</th>\n",
              "      <td>1.000000</td>\n",
              "      <td>3.000000</td>\n",
              "      <td>15.000000</td>\n",
              "      <td>29.600000</td>\n",
              "    </tr>\n",
              "    <tr>\n",
              "      <th>25%</th>\n",
              "      <td>4.500000</td>\n",
              "      <td>4.500000</td>\n",
              "      <td>25.550000</td>\n",
              "      <td>38.500000</td>\n",
              "    </tr>\n",
              "    <tr>\n",
              "      <th>50%</th>\n",
              "      <td>8.000000</td>\n",
              "      <td>9.000000</td>\n",
              "      <td>34.000000</td>\n",
              "      <td>42.900000</td>\n",
              "    </tr>\n",
              "    <tr>\n",
              "      <th>75%</th>\n",
              "      <td>11.500000</td>\n",
              "      <td>14.000000</td>\n",
              "      <td>43.500000</td>\n",
              "      <td>51.700000</td>\n",
              "    </tr>\n",
              "    <tr>\n",
              "      <th>max</th>\n",
              "      <td>15.000000</td>\n",
              "      <td>20.000000</td>\n",
              "      <td>59.000000</td>\n",
              "      <td>56.800000</td>\n",
              "    </tr>\n",
              "  </tbody>\n",
              "</table>\n",
              "</div>\n",
              "      <button class=\"colab-df-convert\" onclick=\"convertToInteractive('df-4dc226ed-f398-47b3-baae-784fea604a60')\"\n",
              "              title=\"Convert this dataframe to an interactive table.\"\n",
              "              style=\"display:none;\">\n",
              "        \n",
              "  <svg xmlns=\"http://www.w3.org/2000/svg\" height=\"24px\"viewBox=\"0 0 24 24\"\n",
              "       width=\"24px\">\n",
              "    <path d=\"M0 0h24v24H0V0z\" fill=\"none\"/>\n",
              "    <path d=\"M18.56 5.44l.94 2.06.94-2.06 2.06-.94-2.06-.94-.94-2.06-.94 2.06-2.06.94zm-11 1L8.5 8.5l.94-2.06 2.06-.94-2.06-.94L8.5 2.5l-.94 2.06-2.06.94zm10 10l.94 2.06.94-2.06 2.06-.94-2.06-.94-.94-2.06-.94 2.06-2.06.94z\"/><path d=\"M17.41 7.96l-1.37-1.37c-.4-.4-.92-.59-1.43-.59-.52 0-1.04.2-1.43.59L10.3 9.45l-7.72 7.72c-.78.78-.78 2.05 0 2.83L4 21.41c.39.39.9.59 1.41.59.51 0 1.02-.2 1.41-.59l7.78-7.78 2.81-2.81c.8-.78.8-2.07 0-2.86zM5.41 20L4 18.59l7.72-7.72 1.47 1.35L5.41 20z\"/>\n",
              "  </svg>\n",
              "      </button>\n",
              "      \n",
              "  <style>\n",
              "    .colab-df-container {\n",
              "      display:flex;\n",
              "      flex-wrap:wrap;\n",
              "      gap: 12px;\n",
              "    }\n",
              "\n",
              "    .colab-df-convert {\n",
              "      background-color: #E8F0FE;\n",
              "      border: none;\n",
              "      border-radius: 50%;\n",
              "      cursor: pointer;\n",
              "      display: none;\n",
              "      fill: #1967D2;\n",
              "      height: 32px;\n",
              "      padding: 0 0 0 0;\n",
              "      width: 32px;\n",
              "    }\n",
              "\n",
              "    .colab-df-convert:hover {\n",
              "      background-color: #E2EBFA;\n",
              "      box-shadow: 0px 1px 2px rgba(60, 64, 67, 0.3), 0px 1px 3px 1px rgba(60, 64, 67, 0.15);\n",
              "      fill: #174EA6;\n",
              "    }\n",
              "\n",
              "    [theme=dark] .colab-df-convert {\n",
              "      background-color: #3B4455;\n",
              "      fill: #D2E3FC;\n",
              "    }\n",
              "\n",
              "    [theme=dark] .colab-df-convert:hover {\n",
              "      background-color: #434B5C;\n",
              "      box-shadow: 0px 1px 3px 1px rgba(0, 0, 0, 0.15);\n",
              "      filter: drop-shadow(0px 1px 2px rgba(0, 0, 0, 0.3));\n",
              "      fill: #FFFFFF;\n",
              "    }\n",
              "  </style>\n",
              "\n",
              "      <script>\n",
              "        const buttonEl =\n",
              "          document.querySelector('#df-4dc226ed-f398-47b3-baae-784fea604a60 button.colab-df-convert');\n",
              "        buttonEl.style.display =\n",
              "          google.colab.kernel.accessAllowed ? 'block' : 'none';\n",
              "\n",
              "        async function convertToInteractive(key) {\n",
              "          const element = document.querySelector('#df-4dc226ed-f398-47b3-baae-784fea604a60');\n",
              "          const dataTable =\n",
              "            await google.colab.kernel.invokeFunction('convertToInteractive',\n",
              "                                                     [key], {});\n",
              "          if (!dataTable) return;\n",
              "\n",
              "          const docLinkHtml = 'Like what you see? Visit the ' +\n",
              "            '<a target=\"_blank\" href=https://colab.research.google.com/notebooks/data_table.ipynb>data table notebook</a>'\n",
              "            + ' to learn more about interactive tables.';\n",
              "          element.innerHTML = '';\n",
              "          dataTable['output_type'] = 'display_data';\n",
              "          await google.colab.output.renderOutput(dataTable, element);\n",
              "          const docLink = document.createElement('div');\n",
              "          docLink.innerHTML = docLinkHtml;\n",
              "          element.appendChild(docLink);\n",
              "        }\n",
              "      </script>\n",
              "    </div>\n",
              "  </div>\n",
              "  "
            ]
          },
          "metadata": {},
          "execution_count": 71
        }
      ]
    },
    {
      "cell_type": "code",
      "source": [
        "df.info"
      ],
      "metadata": {
        "id": "slsuQIsG-O8u",
        "outputId": "916eba67-2c0a-46b0-f6f9-ba26b73c8298",
        "colab": {
          "base_uri": "https://localhost:8080/"
        }
      },
      "execution_count": null,
      "outputs": [
        {
          "output_type": "execute_result",
          "data": {
            "text/plain": [
              "<bound method DataFrame.info of     no daerah  rw    kk  rata-rata usia    bantuan\n",
              "0    1      B   4  18.0            42.9  1.200.000\n",
              "1    2      D  12  42.0            41.5  1.200.000\n",
              "2    3      F  10  28.0            45.7  1.200.000\n",
              "3    4      E  12  41.0            56.8  1.200.000\n",
              "4    5      D  20  23.1            46.8  1.200.000\n",
              "5    6      E   4  17.0            29.6  1.200.000\n",
              "6    7      A   3  39.0            54.9  1.200.000\n",
              "7    8      F   9  34.0            42.9  1.200.000\n",
              "8    9      D   5  59.0            50.8  1.200.000\n",
              "9   10      A  19  15.0            52.6  1.200.000\n",
              "10  11      B   4  50.0            32.6  1.500.000\n",
              "11  12      A   8  52.0            54.6  1.500.000\n",
              "12  13      D   6  45.0            34.9  1.500.000\n",
              "13  14      E  16  29.0            38.5  1.500.000\n",
              "14  15      E  16  29.0            38.5  1.500.000>"
            ]
          },
          "metadata": {},
          "execution_count": 70
        }
      ]
    },
    {
      "cell_type": "code",
      "source": [
        "print(\"====== RW A ======\")\n",
        "df[df['daerah'] == 'A']['rw'].sum()\n"
      ],
      "metadata": {
        "colab": {
          "base_uri": "https://localhost:8080/"
        },
        "id": "2d76ZoxgWmxc",
        "outputId": "6bc5b6d8-4b4c-4a4c-a66d-7a314b1c4cfd"
      },
      "execution_count": 85,
      "outputs": [
        {
          "output_type": "stream",
          "name": "stdout",
          "text": [
            "====== RW A ======\n"
          ]
        },
        {
          "output_type": "execute_result",
          "data": {
            "text/plain": [
              "30"
            ]
          },
          "metadata": {},
          "execution_count": 85
        }
      ]
    },
    {
      "cell_type": "code",
      "source": [
        "print(\"====== RW B ======\")\n",
        "df[df['daerah'] == 'B']['rw'].sum()"
      ],
      "metadata": {
        "colab": {
          "base_uri": "https://localhost:8080/"
        },
        "id": "K8_H_s4mpxel",
        "outputId": "e18468f0-080e-45f1-9bf7-ff66362189c5"
      },
      "execution_count": 87,
      "outputs": [
        {
          "output_type": "stream",
          "name": "stdout",
          "text": [
            "====== RW B ======\n"
          ]
        },
        {
          "output_type": "execute_result",
          "data": {
            "text/plain": [
              "8"
            ]
          },
          "metadata": {},
          "execution_count": 87
        }
      ]
    },
    {
      "cell_type": "code",
      "source": [
        "print(\"====== RW D ======\")\n",
        "df[df['daerah'] == 'D']['rw'].sum()"
      ],
      "metadata": {
        "colab": {
          "base_uri": "https://localhost:8080/"
        },
        "id": "WCu1glwWcR85",
        "outputId": "6e12b830-b0fe-453e-e909-c196a6acbe52"
      },
      "execution_count": 90,
      "outputs": [
        {
          "output_type": "stream",
          "name": "stdout",
          "text": [
            "====== RW D ======\n"
          ]
        },
        {
          "output_type": "execute_result",
          "data": {
            "text/plain": [
              "43"
            ]
          },
          "metadata": {},
          "execution_count": 90
        }
      ]
    },
    {
      "cell_type": "code",
      "source": [
        "print(\"====== RW E ======\")\n",
        "df[df['daerah'] == 'E']['rw'].sum()"
      ],
      "metadata": {
        "colab": {
          "base_uri": "https://localhost:8080/"
        },
        "id": "UadaWONZcceK",
        "outputId": "f2338355-57a2-407b-ea7a-740484260ce4"
      },
      "execution_count": 92,
      "outputs": [
        {
          "output_type": "stream",
          "name": "stdout",
          "text": [
            "====== RW E ======\n"
          ]
        },
        {
          "output_type": "execute_result",
          "data": {
            "text/plain": [
              "48"
            ]
          },
          "metadata": {},
          "execution_count": 92
        }
      ]
    },
    {
      "cell_type": "code",
      "source": [
        "print(\"====== RW F ======\")\n",
        "df[df['daerah'] == 'F']['rw'].sum()"
      ],
      "metadata": {
        "colab": {
          "base_uri": "https://localhost:8080/"
        },
        "id": "q5EP_yJsckCr",
        "outputId": "a475d226-e1d8-437d-eecd-6ace009f19b7"
      },
      "execution_count": 94,
      "outputs": [
        {
          "output_type": "stream",
          "name": "stdout",
          "text": [
            "====== RW F ======\n"
          ]
        },
        {
          "output_type": "execute_result",
          "data": {
            "text/plain": [
              "19"
            ]
          },
          "metadata": {},
          "execution_count": 94
        }
      ]
    },
    {
      "cell_type": "code",
      "source": [
        "import matplotlib.pyplot as plt\n",
        "fig =plt.figure()\n",
        "ax = fig.add_axes([0,0,1,1])\n",
        "per = ['A',' B', 'D','E', 'F']\n",
        "pen = [30,8, 43,48,19]\n",
        "plt.title(\"Data RW\")\n",
        "plt.bar(per, pen,)\n",
        "plt.show()\n",
        "\n",
        "fig = plt.figure()\n",
        "ax = fig.add_axes([0, 0, 1,1])\n",
        "ax.axis('equal')\n",
        "per = ['A',' B', 'D','E', 'F']\n",
        "pen = [30,8, 43,48,19]\n",
        "ax.pie(pen,labels=per,autopct='%1.2f%%',)\n",
        "plt.title(\"Data RW\")\n",
        "plt.show()"
      ],
      "metadata": {
        "colab": {
          "base_uri": "https://localhost:8080/",
          "height": 670
        },
        "id": "FJ6W4rP0db08",
        "outputId": "124c018b-b0a8-49c1-f0a9-998d0952f12f"
      },
      "execution_count": 105,
      "outputs": [
        {
          "output_type": "display_data",
          "data": {
            "text/plain": [
              "<Figure size 432x288 with 1 Axes>"
            ],
            "image/png": "[encoded data removed]"
          },
          "metadata": {
            "needs_background": "light"
          }
        },
        {
          "output_type": "display_data",
          "data": {
            "text/plain": [
              "<Figure size 432x288 with 1 Axes>"
            ],
            "image/png": "[encoded data removed]"
          },
          "metadata": {}
        }
      ]
    },
    {
      "cell_type": "code",
      "source": [
        "print(\"====== KK A ======\")\n",
        "df[df['daerah'] == 'A']['kk'].sum()"
      ],
      "metadata": {
        "colab": {
          "base_uri": "https://localhost:8080/"
        },
        "id": "TkzExUEDcoeb",
        "outputId": "97503ac5-56cf-4f4e-e0b2-6c837e7ba196"
      },
      "execution_count": 96,
      "outputs": [
        {
          "output_type": "stream",
          "name": "stdout",
          "text": [
            "====== KK A ======\n"
          ]
        },
        {
          "output_type": "execute_result",
          "data": {
            "text/plain": [
              "106.0"
            ]
          },
          "metadata": {},
          "execution_count": 96
        }
      ]
    },
    {
      "cell_type": "code",
      "source": [
        "print(\"====== KK B ======\")\n",
        "df[df['daerah'] == 'B']['kk'].sum()"
      ],
      "metadata": {
        "colab": {
          "base_uri": "https://localhost:8080/"
        },
        "id": "sgPBUMwHc4V2",
        "outputId": "5ac504cb-491f-455d-abeb-80921c377531"
      },
      "execution_count": 99,
      "outputs": [
        {
          "output_type": "stream",
          "name": "stdout",
          "text": [
            "====== KK B ======\n"
          ]
        },
        {
          "output_type": "execute_result",
          "data": {
            "text/plain": [
              "68.0"
            ]
          },
          "metadata": {},
          "execution_count": 99
        }
      ]
    },
    {
      "cell_type": "code",
      "source": [
        "print(\"====== KK D ======\")\n",
        "df[df['daerah'] == 'D']['kk'].sum()"
      ],
      "metadata": {
        "colab": {
          "base_uri": "https://localhost:8080/"
        },
        "id": "gWzZKDPWc9V2",
        "outputId": "6fea1843-bad5-4838-d5ed-060ef3cf4ee9"
      },
      "execution_count": 100,
      "outputs": [
        {
          "output_type": "stream",
          "name": "stdout",
          "text": [
            "====== KK D ======\n"
          ]
        },
        {
          "output_type": "execute_result",
          "data": {
            "text/plain": [
              "169.1"
            ]
          },
          "metadata": {},
          "execution_count": 100
        }
      ]
    },
    {
      "cell_type": "code",
      "source": [
        "print(\"====== KK E ======\")\n",
        "df[df['daerah'] == 'E']['kk'].sum()"
      ],
      "metadata": {
        "colab": {
          "base_uri": "https://localhost:8080/"
        },
        "id": "E3mq4PWadKOh",
        "outputId": "44f8e261-6356-42fa-bb6d-a916d088968c"
      },
      "execution_count": 102,
      "outputs": [
        {
          "output_type": "stream",
          "name": "stdout",
          "text": [
            "====== KK E ======\n"
          ]
        },
        {
          "output_type": "execute_result",
          "data": {
            "text/plain": [
              "116.0"
            ]
          },
          "metadata": {},
          "execution_count": 102
        }
      ]
    },
    {
      "cell_type": "code",
      "source": [
        "print(\"====== KK F ======\")\n",
        "df[df['daerah'] == 'F']['kk'].sum()"
      ],
      "metadata": {
        "colab": {
          "base_uri": "https://localhost:8080/"
        },
        "id": "jEguWtPsdNGx",
        "outputId": "47e928f1-5678-4d31-aad3-a4a5fcff7cfc"
      },
      "execution_count": 106,
      "outputs": [
        {
          "output_type": "stream",
          "name": "stdout",
          "text": [
            "====== KK F ======\n"
          ]
        },
        {
          "output_type": "execute_result",
          "data": {
            "text/plain": [
              "62.0"
            ]
          },
          "metadata": {},
          "execution_count": 106
        }
      ]
    },
    {
      "cell_type": "code",
      "source": [
        "import matplotlib.pyplot as plt\n",
        "fig =plt.figure()\n",
        "ax = fig.add_axes([0,0,1,1])\n",
        "per = ['A',' B', 'D','E', 'F']\n",
        "pen = [106,68, 169.1,116,62]\n",
        "plt.title(\"Data KK\")\n",
        "plt.bar(per, pen,)\n",
        "plt.show()\n",
        "\n",
        "fig = plt.figure()\n",
        "ax = fig.add_axes([0, 0, 1,1])\n",
        "ax.axis('equal')\n",
        "per = ['A',' B', 'D','E', 'F']\n",
        "pen =  [106,68, 169.1,116,62]\n",
        "ax.pie(pen,labels=per,autopct='%1.2f%%',)\n",
        "plt.title(\"Data KK\")\n",
        "plt.show()"
      ],
      "metadata": {
        "colab": {
          "base_uri": "https://localhost:8080/",
          "height": 670
        },
        "id": "1jkWx6KFd-r4",
        "outputId": "64f14063-5b33-4ca8-d273-79641e23f4e0"
      },
      "execution_count": 109,
      "outputs": [
        {
          "output_type": "display_data",
          "data": {
            "text/plain": [
              "<Figure size 432x288 with 1 Axes>"
            ],
            "image/png": "[encoded data removed]"
          },
          "metadata": {
            "needs_background": "light"
          }
        },
        {
          "output_type": "display_data",
          "data": {
            "text/plain": [
              "<Figure size 432x288 with 1 Axes>"
            ],
            "image/png": "[encoded data removed]"
          },
          "metadata": {}
        }
      ]
    },
    {
      "cell_type": "code",
      "source": [
        "print(\"====== MEAN ======\")\n",
        "df['rata-rata usia'].sum()/15"
      ],
      "metadata": {
        "colab": {
          "base_uri": "https://localhost:8080/"
        },
        "id": "P46hPih1ecJt",
        "outputId": "61b60533-f086-4ec0-b29e-0571d26d7fa1"
      },
      "execution_count": 111,
      "outputs": [
        {
          "output_type": "stream",
          "name": "stdout",
          "text": [
            "====== MEAN ======\n"
          ]
        },
        {
          "output_type": "execute_result",
          "data": {
            "text/plain": [
              "44.24"
            ]
          },
          "metadata": {},
          "execution_count": 111
        }
      ]
    },
    {
      "cell_type": "code",
      "source": [
        "print(\"====== BANTUAN ======\")\n",
        "total = (1200000 + 1200000 + 1200000 + 1200000 + 1200000 + 1200000 + 1200000 + 1200000 + 1200000 + 1200000 + 1500000 + 1500000 + 1500000 + 1500000 + 1500000)\n",
        "print(\"total bantuan Rp.\" +str(total))\n",
        "p1 =(10 * 1200000\t)*0.05\n",
        "p2 =(5 * 1500000\t)*0.07\n",
        "pajak= (p1 + p2 )\n",
        "hasil= (total - pajak)\n",
        "print(\"maka total bantuan nya Rp.\" +str (hasil))"
      ],
      "metadata": {
        "colab": {
          "base_uri": "https://localhost:8080/"
        },
        "id": "w1jUb3WRfELb",
        "outputId": "87d284f6-8551-496f-bd75-5f14fb4c9ce4"
      },
      "execution_count": 117,
      "outputs": [
        {
          "output_type": "stream",
          "name": "stdout",
          "text": [
            "====== BANTUAN ======\n",
            "total bantuan Rp.19500000\n",
            "maka total bantuan nya Rp.18375000.0\n"
          ]
        }
      ]
    },
    {
      "cell_type": "code",
      "source": [],
      "metadata": {
        "id": "FEoRWZn5fnzR"
      },
      "execution_count": 117,
      "outputs": []
    }
  ]
}