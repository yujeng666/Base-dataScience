{
  "nbformat": 4,
  "nbformat_minor": 0,
  "metadata": {
    "colab": {
      "provenance": []
    },
    "kernelspec": {
      "name": "python3",
      "display_name": "Python 3"
    },
    "language_info": {
      "name": "python"
    }
  },
  "cells": [
    {
      "cell_type": "code",
      "execution_count": null,
      "metadata": {
        "colab": {
          "base_uri": "https://localhost:8080/",
          "height": 520
        },
        "id": "MAz-7EbiQeA5",
        "outputId": "ff1b8842-92f0-4414-d12a-423225823138"
      },
      "outputs": [
        {
          "output_type": "stream",
          "name": "stdout",
          "text": [
            "=====   SOAL 1   =====\n",
            "maka total pesanan adalah 24\n",
            "maka total harga nya adalah Rp.545000\n",
            "=====   SOAL 2   =====\n",
            "presentaseu Burger : 25.0\n",
            "presentaseu Pizza : 12.5\n",
            "presentaseu Dimsum: 16.666666666666668\n",
            "presentaseu Ekkado: 16.666666666666668\n",
            "presentaseu Milkshake : 8.333333333333334\n",
            "presentaseu Eskrim : 20.833333333333332\n"
          ]
        },
        {
          "output_type": "display_data",
          "data": {
            "text/plain": [
              "<Figure size 432x288 with 1 Axes>"
            ],
            "image/png": "[encoded data removed]"
          },
          "metadata": {}
        }
      ],
      "source": [
        "harga_burger =24000\n",
        "harga_pizza\t = 52000\n",
        "harga_dimsum = 30000\n",
        "harga_ekkado = 7500\n",
        "harga_milkshake = 10000\n",
        "harga_eskrim =\t15000\n",
        "print(\"=====   SOAL 1   =====\")\n",
        "burger = 6\n",
        "pizza\t = 3\n",
        "dimsum = 4\n",
        "ekkado = 4\n",
        "milkshake = 2\n",
        "eskrim =\t5\n",
        "\n",
        "\n",
        "\n",
        "jumlah = (burger + pizza + dimsum +ekkado + milkshake + eskrim)\n",
        "print(\"maka total pesanan adalah \" + str(jumlah))\n",
        "\n",
        "hasil = (burger*harga_burger)+ (pizza * harga_pizza)+ (dimsum*harga_dimsum)+ (ekkado * harga_ekkado)+ (milkshake*harga_milkshake)+ (eskrim * harga_eskrim)\n",
        "print(\"maka total harga nya adalah Rp.\" + str(hasil))\n",
        "\n",
        "print(\"=====   SOAL 2   =====\")\n",
        "\n",
        "bur= (burger  * 100)/ 24\n",
        "piz= (pizza * 100)/ 24\n",
        "dim= (dimsum * 100)/ 24\n",
        "ek= (ekkado * 100 )/ 24\n",
        "milk= (milkshake * 100) / 24\n",
        "es= (eskrim * 100) / 24\n",
        "\n",
        "print(\"presentaseu Burger : \"+ str (bur))\n",
        "print(\"presentaseu Pizza : \"+ str (piz))\n",
        "print(\"presentaseu Dimsum: \"+ str (dim))\n",
        "print(\"presentaseu Ekkado: \"+ str (ek))\n",
        "print(\"presentaseu Milkshake : \"+ str (milk))\n",
        "print(\"presentaseu Eskrim : \"+ str (es))\n",
        "\n",
        "import matplotlib.pyplot as plt\n",
        "\n",
        "fig = plt.figure()\n",
        "ax = fig.add_axes([0, 0, 1,1])\n",
        "ax.axis('equal')\n",
        "pesanan = ['burger', 'pizza', 'dimsum','ekkado', 'milkshake', 'eskrim']\n",
        "total = [bur, piz, dim, ek, milk, es ]\n",
        "\n",
        "ax.pie(total,labels=pesanan,autopct='%1.2f%%',)\n",
        "plt.title(\" Bentuk pie chart dari peresentasi\")\n",
        "\n",
        "plt.show()"
      ]
    },
    {
      "cell_type": "code",
      "source": [
        "from ctypes import BigEndianStructure\n",
        "print(\"=====   SOAL 3   =====\")\n",
        "print(\"=====   AHMAD   =====\")\n",
        "burger = 4\n",
        "pizza = 2\n",
        "\n",
        "ahmad = ( 0.70 * ((burger * 24000)+ (pizza * 52000))  )+ (7.5 * 2000) - 5000 \n",
        "print(\"total pesanan ahmad adalah Rp.\" + str(ahmad))\n",
        "hasil =(200000 - ahmad)\n",
        "print(\"kembalian ahmad : Rp.\"  + str (hasil))\n",
        "\n",
        "print(\"=====   BENI   =====\")\n",
        "dimsum = 3\n",
        "eskrim = 1\n",
        "milkshake = 2\n",
        "beni = ( 0.70 * (( dimsum * 30000)+ (eskrim *15000)+ (milkshake * 10000 ))  )+ (4 * 1800) - 5000 \n",
        "print(\"total pesanan dadang adalah Rp.\" + str(beni))\n",
        "hasil =(150000 - beni)\n",
        "print(\"kembalian nya : Rp.\"  + str (hasil))\n",
        "\n",
        "print(\"=====   CITRA   =====\")\n",
        "eskrim = 3\n",
        "citra = (eskrim * 15000) + (8 * 2000) - 5000  \n",
        "print(\"total pesanan citra adalah Rp.\" + str(citra))\n",
        "hasil = (60000 - citra)\n",
        "print(\"kembalian nya : Rp.\"  + str (hasil))\n",
        "\n",
        "print(\"=====   DADANG   =====\")\n",
        "burger = 2\n",
        "dimsum = 1\n",
        "\n",
        "dadang = ( 0.80 * ((burger * 24000)+ (dimsum * 30000))  )+ (5 * 1800) - 5000 \n",
        "print(\"total pesanan dadang adalah Rp.\" + str(dadang))\n",
        "hasil =(100000 - dadang)\n",
        "print(\"kembalian nya : Rp.\"  + str (hasil))\n",
        "\n",
        "print(\"=====   EPEN   =====\")\n",
        "ekkado = 4\n",
        "eskrim = 1\n",
        "pizza = 1\n",
        "epen = ( 0.70 * (( ekkado * 7500)+ (eskrim *15000)+ (pizza * 52000 ))  )+ (12 * 2200) - 5000 \n",
        "print(\"total pesanan epencupen adalah Rp.\" + str(epen))\n",
        "hasil =(100000 - epen)\n",
        "print(\"kembalian nya : Rp.\"  + str (hasil))"
      ],
      "metadata": {
        "colab": {
          "base_uri": "https://localhost:8080/"
        },
        "id": "LizuojI9eznq",
        "outputId": "8a270e20-a61f-4691-ed82-14dc87116383"
      },
      "execution_count": null,
      "outputs": [
        {
          "output_type": "stream",
          "name": "stdout",
          "text": [
            "=====   SOAL 3   =====\n",
            "=====   AHMAD   =====\n",
            "total pesanan ahmad adalah Rp.150000.0\n",
            "kembalian ahmad : Rp.50000.0\n",
            "=====   BENI   =====\n",
            "total pesanan dadang adalah Rp.89700.0\n",
            "kembalian nya : Rp.60300.0\n",
            "=====   CITRA   =====\n",
            "total pesanan citra adalah Rp.56000\n",
            "kembalian nya : Rp.4000\n",
            "=====   DADANG   =====\n",
            "total pesanan dadang adalah Rp.66400.0\n",
            "kembalian nya : Rp.33600.0\n",
            "=====   EPEN   =====\n",
            "total pesanan dadang adalah Rp.89300.0\n",
            "kembalian nya : Rp.10700.0\n"
          ]
        }
      ]
    },
    {
      "cell_type": "code",
      "source": [
        "print(\"=====   SOAL 4   =====\")\n",
        "print(\"=====   AHMAD   =====\")\n",
        "burger = 4\n",
        "pizza = 2\n",
        "ahmad = ( 0.30 * ((burger * 24000)+ (pizza * 52000))  ) + 5000 \n",
        "print(\"total potongan ahmad adalah Rp.\" + str(ahmad))\n",
        "\n",
        "print(\"=====   BENI   =====\")\n",
        "dimsum = 3\n",
        "eskrim = 1\n",
        "milkshake = 2\n",
        "beni = ( 0.30 * (( dimsum * 30000)+ (eskrim *15000)+ (milkshake * 10000 ))  ) + 5000 \n",
        "print(\"total potongan dadang adalah Rp.\" + str(beni))\n",
        "\n",
        "print(\"=====   CITRA   =====\")\n",
        "eskrim = 3\n",
        "citra = 0 *(eskrim * 15000)  + 5000  \n",
        "print(\"total potongan citra adalah Rp.\" + str(citra))\n",
        "\n",
        "print(\"=====   DADANG   =====\")\n",
        "burger = 2\n",
        "dimsum = 1\n",
        "\n",
        "dadang = ( 0.20 * ((burger * 24000)+ (dimsum * 30000))  ) + 5000 \n",
        "print(\"total potongan dadang adalah Rp.\" + str(dadang))\n",
        "\n",
        "print(\"=====   EPEN   =====\")\n",
        "ekkado = 4\n",
        "eskrim = 1\n",
        "pizza = 1\n",
        "epen = ( 0.30 * (( ekkado * 7500)+ (eskrim *15000)+ (pizza * 52000 ))  )+  5000 \n",
        "print(\"total potongan epen adalah Rp.\" + str(epen))\n",
        "\n",
        "hasil=(ahmad + beni + citra + dadang + epen)\n",
        "print (\"total potongan \" +str (hasil))"
      ],
      "metadata": {
        "colab": {
          "base_uri": "https://localhost:8080/"
        },
        "id": "_4u1Ga9ku4BG",
        "outputId": "b2a9d54e-47b2-4ec7-a07a-2bd15ceefc86"
      },
      "execution_count": null,
      "outputs": [
        {
          "output_type": "stream",
          "name": "stdout",
          "text": [
            "=====   SOAL 4   =====\n",
            "=====   AHMAD   =====\n",
            "total potongan ahmad adalah Rp.65000.0\n",
            "=====   BENI   =====\n",
            "total potongan dadang adalah Rp.42500.0\n",
            "=====   CITRA   =====\n",
            "total potongan citra adalah Rp.5000\n",
            "=====   DADANG   =====\n",
            "total potongan dadang adalah Rp.20600.0\n",
            "=====   EPEN   =====\n",
            "total potongan epen adalah Rp.34100.0\n",
            "total potongan 167200.0\n"
          ]
        }
      ]
    },
    {
      "cell_type": "code",
      "source": [
        "print(\"=====   SOAL 5   =====\")\n",
        "a = 7.5\n",
        "b = 2000\n",
        "c = 4\n",
        "d = 1800\n",
        "e = 8\n",
        "f = 2000\n",
        "g = 5\n",
        "h = 1800\n",
        "i = 12\n",
        "j =2200\n",
        "\n",
        "hasil= (a *b )+ (c*d)+ (e*f)+ (g*h)+ (i*j)\n",
        "print(\"maka hasil dari smua jarak ongkir : Rp.\" + str(hasil))"
      ],
      "metadata": {
        "colab": {
          "base_uri": "https://localhost:8080/"
        },
        "id": "m0XWMSfcvCp_",
        "outputId": "06bc05d7-7829-4d71-ca46-36ca53ba33f7"
      },
      "execution_count": null,
      "outputs": [
        {
          "output_type": "stream",
          "name": "stdout",
          "text": [
            "=====   SOAL 5   =====\n",
            "maka hasil dari smua jarak ongkir : Rp.73600.0\n"
          ]
        }
      ]
    }
  ]
}