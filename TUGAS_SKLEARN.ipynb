{
  "nbformat": 4,
  "nbformat_minor": 0,
  "metadata": {
    "colab": {
      "provenance": []
    },
    "kernelspec": {
      "name": "python3",
      "display_name": "Python 3"
    },
    "language_info": {
      "name": "python"
    }
  },
  "cells": [
    {
      "cell_type": "code",
      "execution_count": null,
      "metadata": {
        "colab": {
          "base_uri": "https://localhost:8080/"
        },
        "id": "r4g5KSBw0Flt",
        "outputId": "d576272e-b517-4303-c2db-535a905ccff1"
      },
      "outputs": [
        {
          "output_type": "stream",
          "name": "stdout",
          "text": [
            "Mounted at /content/drive\n"
          ]
        }
      ],
      "source": [
        "from google.colab import drive\n",
        "drive.mount('/content/drive')"
      ]
    },
    {
      "cell_type": "code",
      "source": [
        "import pandas as pd\n",
        "\n",
        "path ='/content/drive/MyDrive/CSV/tugas sklearn - Sheet1 (2).csv'\n",
        "df = pd.read_csv(path)\n",
        "df.describe()"
      ],
      "metadata": {
        "colab": {
          "base_uri": "https://localhost:8080/",
          "height": 300
        },
        "id": "KhKvYIBo0QZt",
        "outputId": "b1ddcd62-0967-4640-efe7-01680ad8b9c8"
      },
      "execution_count": null,
      "outputs": [
        {
          "output_type": "execute_result",
          "data": {
            "text/plain": [
              "            volume         omzet\n",
              "count    20.000000  2.000000e+01\n",
              "mean    849.800000  1.974850e+07\n",
              "std     393.405857  2.024693e+07\n",
              "min     176.000000  1.625000e+06\n",
              "25%     393.750000  8.362500e+06\n",
              "50%    1036.500000  1.646500e+07\n",
              "75%    1196.500000  2.278125e+07\n",
              "max    1303.000000  9.624000e+07"
            ],
            "text/html": [
              "\n",
              "  <div id=\"df-ae95d4c7-b598-40cb-b9d6-67a3dd689a54\">\n",
              "    <div class=\"colab-df-container\">\n",
              "      <div>\n",
              "<style scoped>\n",
              "    .dataframe tbody tr th:only-of-type {\n",
              "        vertical-align: middle;\n",
              "    }\n",
              "\n",
              "    .dataframe tbody tr th {\n",
              "        vertical-align: top;\n",
              "    }\n",
              "\n",
              "    .dataframe thead th {\n",
              "        text-align: right;\n",
              "    }\n",
              "</style>\n",
              "<table border=\"1\" class=\"dataframe\">\n",
              "  <thead>\n",
              "    <tr style=\"text-align: right;\">\n",
              "      <th></th>\n",
              "      <th>volume</th>\n",
              "      <th>omzet</th>\n",
              "    </tr>\n",
              "  </thead>\n",
              "  <tbody>\n",
              "    <tr>\n",
              "      <th>count</th>\n",
              "      <td>20.000000</td>\n",
              "      <td>2.000000e+01</td>\n",
              "    </tr>\n",
              "    <tr>\n",
              "      <th>mean</th>\n",
              "      <td>849.800000</td>\n",
              "      <td>1.974850e+07</td>\n",
              "    </tr>\n",
              "    <tr>\n",
              "      <th>std</th>\n",
              "      <td>393.405857</td>\n",
              "      <td>2.024693e+07</td>\n",
              "    </tr>\n",
              "    <tr>\n",
              "      <th>min</th>\n",
              "      <td>176.000000</td>\n",
              "      <td>1.625000e+06</td>\n",
              "    </tr>\n",
              "    <tr>\n",
              "      <th>25%</th>\n",
              "      <td>393.750000</td>\n",
              "      <td>8.362500e+06</td>\n",
              "    </tr>\n",
              "    <tr>\n",
              "      <th>50%</th>\n",
              "      <td>1036.500000</td>\n",
              "      <td>1.646500e+07</td>\n",
              "    </tr>\n",
              "    <tr>\n",
              "      <th>75%</th>\n",
              "      <td>1196.500000</td>\n",
              "      <td>2.278125e+07</td>\n",
              "    </tr>\n",
              "    <tr>\n",
              "      <th>max</th>\n",
              "      <td>1303.000000</td>\n",
              "      <td>9.624000e+07</td>\n",
              "    </tr>\n",
              "  </tbody>\n",
              "</table>\n",
              "</div>\n",
              "      <button class=\"colab-df-convert\" onclick=\"convertToInteractive('df-ae95d4c7-b598-40cb-b9d6-67a3dd689a54')\"\n",
              "              title=\"Convert this dataframe to an interactive table.\"\n",
              "              style=\"display:none;\">\n",
              "        \n",
              "  <svg xmlns=\"http://www.w3.org/2000/svg\" height=\"24px\"viewBox=\"0 0 24 24\"\n",
              "       width=\"24px\">\n",
              "    <path d=\"M0 0h24v24H0V0z\" fill=\"none\"/>\n",
              "    <path d=\"M18.56 5.44l.94 2.06.94-2.06 2.06-.94-2.06-.94-.94-2.06-.94 2.06-2.06.94zm-11 1L8.5 8.5l.94-2.06 2.06-.94-2.06-.94L8.5 2.5l-.94 2.06-2.06.94zm10 10l.94 2.06.94-2.06 2.06-.94-2.06-.94-.94-2.06-.94 2.06-2.06.94z\"/><path d=\"M17.41 7.96l-1.37-1.37c-.4-.4-.92-.59-1.43-.59-.52 0-1.04.2-1.43.59L10.3 9.45l-7.72 7.72c-.78.78-.78 2.05 0 2.83L4 21.41c.39.39.9.59 1.41.59.51 0 1.02-.2 1.41-.59l7.78-7.78 2.81-2.81c.8-.78.8-2.07 0-2.86zM5.41 20L4 18.59l7.72-7.72 1.47 1.35L5.41 20z\"/>\n",
              "  </svg>\n",
              "      </button>\n",
              "      \n",
              "  <style>\n",
              "    .colab-df-container {\n",
              "      display:flex;\n",
              "      flex-wrap:wrap;\n",
              "      gap: 12px;\n",
              "    }\n",
              "\n",
              "    .colab-df-convert {\n",
              "      background-color: #E8F0FE;\n",
              "      border: none;\n",
              "      border-radius: 50%;\n",
              "      cursor: pointer;\n",
              "      display: none;\n",
              "      fill: #1967D2;\n",
              "      height: 32px;\n",
              "      padding: 0 0 0 0;\n",
              "      width: 32px;\n",
              "    }\n",
              "\n",
              "    .colab-df-convert:hover {\n",
              "      background-color: #E2EBFA;\n",
              "      box-shadow: 0px 1px 2px rgba(60, 64, 67, 0.3), 0px 1px 3px 1px rgba(60, 64, 67, 0.15);\n",
              "      fill: #174EA6;\n",
              "    }\n",
              "\n",
              "    [theme=dark] .colab-df-convert {\n",
              "      background-color: #3B4455;\n",
              "      fill: #D2E3FC;\n",
              "    }\n",
              "\n",
              "    [theme=dark] .colab-df-convert:hover {\n",
              "      background-color: #434B5C;\n",
              "      box-shadow: 0px 1px 3px 1px rgba(0, 0, 0, 0.15);\n",
              "      filter: drop-shadow(0px 1px 2px rgba(0, 0, 0, 0.3));\n",
              "      fill: #FFFFFF;\n",
              "    }\n",
              "  </style>\n",
              "\n",
              "      <script>\n",
              "        const buttonEl =\n",
              "          document.querySelector('#df-ae95d4c7-b598-40cb-b9d6-67a3dd689a54 button.colab-df-convert');\n",
              "        buttonEl.style.display =\n",
              "          google.colab.kernel.accessAllowed ? 'block' : 'none';\n",
              "\n",
              "        async function convertToInteractive(key) {\n",
              "          const element = document.querySelector('#df-ae95d4c7-b598-40cb-b9d6-67a3dd689a54');\n",
              "          const dataTable =\n",
              "            await google.colab.kernel.invokeFunction('convertToInteractive',\n",
              "                                                     [key], {});\n",
              "          if (!dataTable) return;\n",
              "\n",
              "          const docLinkHtml = 'Like what you see? Visit the ' +\n",
              "            '<a target=\"_blank\" href=https://colab.research.google.com/notebooks/data_table.ipynb>data table notebook</a>'\n",
              "            + ' to learn more about interactive tables.';\n",
              "          element.innerHTML = '';\n",
              "          dataTable['output_type'] = 'display_data';\n",
              "          await google.colab.output.renderOutput(dataTable, element);\n",
              "          const docLink = document.createElement('div');\n",
              "          docLink.innerHTML = docLinkHtml;\n",
              "          element.appendChild(docLink);\n",
              "        }\n",
              "      </script>\n",
              "    </div>\n",
              "  </div>\n",
              "  "
            ]
          },
          "metadata": {},
          "execution_count": 105
        }
      ]
    },
    {
      "cell_type": "code",
      "source": [
        "df"
      ],
      "metadata": {
        "colab": {
          "base_uri": "https://localhost:8080/",
          "height": 677
        },
        "id": "JRVPwBFE0bcd",
        "outputId": "5a6c19b8-4795-4108-8e8d-d01bc537122b"
      },
      "execution_count": null,
      "outputs": [
        {
          "output_type": "execute_result",
          "data": {
            "text/plain": [
              "                    lokasi                 jenis  volume satuan     omzet\n",
              "0   Pasar Bunga Rawabelong        Bunga Matahari     176   Ikat   8620000\n",
              "1   Pasar Bunga Rawabelong           Buah Pinang     245   Ikat   2450000\n",
              "2   Pasar Bunga Rawabelong            Daun Sirih     325   Ikat   1625000\n",
              "3   Pasar Bunga Rawabelong               Gladiol     336   Ikat   8400000\n",
              "4   Pasar Bunga Rawabelong          Philo Marbel     366   Ikat   5490000\n",
              "5   Pasar Bunga Rawabelong         Ivy Variegata     403   Ikat   8060000\n",
              "6   Pasar Bunga Rawabelong             Baby Bret     737   Ikat  14740000\n",
              "7   Pasar Bunga Rawabelong              Solidago     802   Ikat  16040000\n",
              "8   Pasar Bunga Rawabelong            Sri Gading     836   Ikat   8250000\n",
              "9   Pasar Bunga Rawabelong      Krisan (Cipanas)     984   Ikat  21300000\n",
              "10  Pasar Bunga Rawabelong               Kandaka    1126   Ikat  16890000\n",
              "11  Pasar Bunga Rawabelong       Aster (Cipanas)    1196   Ikat  19875000\n",
              "12  Pasar Bunga Rawabelong           Snap Dragon    1089   Ikat  27225000\n",
              "13  Pasar Bunga Rawabelong             Hortensia    1198   Ikat  29950000\n",
              "14  Pasar Bunga Rawabelong             Hortensia    1198   Ikat  29950000\n",
              "15  Pasar Bunga Rawabelong                 Pakis    1137   Ikat  17055000\n",
              "16  Pasar Bunga Rawabelong     Anggrek Dedrobium    1203   Ikat  96240000\n",
              "17  Pasar Bunga Rawabelong      Song  of Jamaika    1210   Ikat  12100000\n",
              "18  Pasar Bunga Rawabelong               Kandaka    1126   Ikat  16890000\n",
              "19  Pasar Bunga Rawabelong  Ros Rontokan  Malang    1303   Ikat  33820000"
            ],
            "text/html": [
              "\n",
              "  <div id=\"df-38abbb8b-07b9-43fd-89b6-aaf4d69b9a1d\">\n",
              "    <div class=\"colab-df-container\">\n",
              "      <div>\n",
              "<style scoped>\n",
              "    .dataframe tbody tr th:only-of-type {\n",
              "        vertical-align: middle;\n",
              "    }\n",
              "\n",
              "    .dataframe tbody tr th {\n",
              "        vertical-align: top;\n",
              "    }\n",
              "\n",
              "    .dataframe thead th {\n",
              "        text-align: right;\n",
              "    }\n",
              "</style>\n",
              "<table border=\"1\" class=\"dataframe\">\n",
              "  <thead>\n",
              "    <tr style=\"text-align: right;\">\n",
              "      <th></th>\n",
              "      <th>lokasi</th>\n",
              "      <th>jenis</th>\n",
              "      <th>volume</th>\n",
              "      <th>satuan</th>\n",
              "      <th>omzet</th>\n",
              "    </tr>\n",
              "  </thead>\n",
              "  <tbody>\n",
              "    <tr>\n",
              "      <th>0</th>\n",
              "      <td>Pasar Bunga Rawabelong</td>\n",
              "      <td>Bunga Matahari</td>\n",
              "      <td>176</td>\n",
              "      <td>Ikat</td>\n",
              "      <td>8620000</td>\n",
              "    </tr>\n",
              "    <tr>\n",
              "      <th>1</th>\n",
              "      <td>Pasar Bunga Rawabelong</td>\n",
              "      <td>Buah Pinang</td>\n",
              "      <td>245</td>\n",
              "      <td>Ikat</td>\n",
              "      <td>2450000</td>\n",
              "    </tr>\n",
              "    <tr>\n",
              "      <th>2</th>\n",
              "      <td>Pasar Bunga Rawabelong</td>\n",
              "      <td>Daun Sirih</td>\n",
              "      <td>325</td>\n",
              "      <td>Ikat</td>\n",
              "      <td>1625000</td>\n",
              "    </tr>\n",
              "    <tr>\n",
              "      <th>3</th>\n",
              "      <td>Pasar Bunga Rawabelong</td>\n",
              "      <td>Gladiol</td>\n",
              "      <td>336</td>\n",
              "      <td>Ikat</td>\n",
              "      <td>8400000</td>\n",
              "    </tr>\n",
              "    <tr>\n",
              "      <th>4</th>\n",
              "      <td>Pasar Bunga Rawabelong</td>\n",
              "      <td>Philo Marbel</td>\n",
              "      <td>366</td>\n",
              "      <td>Ikat</td>\n",
              "      <td>5490000</td>\n",
              "    </tr>\n",
              "    <tr>\n",
              "      <th>5</th>\n",
              "      <td>Pasar Bunga Rawabelong</td>\n",
              "      <td>Ivy Variegata</td>\n",
              "      <td>403</td>\n",
              "      <td>Ikat</td>\n",
              "      <td>8060000</td>\n",
              "    </tr>\n",
              "    <tr>\n",
              "      <th>6</th>\n",
              "      <td>Pasar Bunga Rawabelong</td>\n",
              "      <td>Baby Bret</td>\n",
              "      <td>737</td>\n",
              "      <td>Ikat</td>\n",
              "      <td>14740000</td>\n",
              "    </tr>\n",
              "    <tr>\n",
              "      <th>7</th>\n",
              "      <td>Pasar Bunga Rawabelong</td>\n",
              "      <td>Solidago</td>\n",
              "      <td>802</td>\n",
              "      <td>Ikat</td>\n",
              "      <td>16040000</td>\n",
              "    </tr>\n",
              "    <tr>\n",
              "      <th>8</th>\n",
              "      <td>Pasar Bunga Rawabelong</td>\n",
              "      <td>Sri Gading</td>\n",
              "      <td>836</td>\n",
              "      <td>Ikat</td>\n",
              "      <td>8250000</td>\n",
              "    </tr>\n",
              "    <tr>\n",
              "      <th>9</th>\n",
              "      <td>Pasar Bunga Rawabelong</td>\n",
              "      <td>Krisan (Cipanas)</td>\n",
              "      <td>984</td>\n",
              "      <td>Ikat</td>\n",
              "      <td>21300000</td>\n",
              "    </tr>\n",
              "    <tr>\n",
              "      <th>10</th>\n",
              "      <td>Pasar Bunga Rawabelong</td>\n",
              "      <td>Kandaka</td>\n",
              "      <td>1126</td>\n",
              "      <td>Ikat</td>\n",
              "      <td>16890000</td>\n",
              "    </tr>\n",
              "    <tr>\n",
              "      <th>11</th>\n",
              "      <td>Pasar Bunga Rawabelong</td>\n",
              "      <td>Aster (Cipanas)</td>\n",
              "      <td>1196</td>\n",
              "      <td>Ikat</td>\n",
              "      <td>19875000</td>\n",
              "    </tr>\n",
              "    <tr>\n",
              "      <th>12</th>\n",
              "      <td>Pasar Bunga Rawabelong</td>\n",
              "      <td>Snap Dragon</td>\n",
              "      <td>1089</td>\n",
              "      <td>Ikat</td>\n",
              "      <td>27225000</td>\n",
              "    </tr>\n",
              "    <tr>\n",
              "      <th>13</th>\n",
              "      <td>Pasar Bunga Rawabelong</td>\n",
              "      <td>Hortensia</td>\n",
              "      <td>1198</td>\n",
              "      <td>Ikat</td>\n",
              "      <td>29950000</td>\n",
              "    </tr>\n",
              "    <tr>\n",
              "      <th>14</th>\n",
              "      <td>Pasar Bunga Rawabelong</td>\n",
              "      <td>Hortensia</td>\n",
              "      <td>1198</td>\n",
              "      <td>Ikat</td>\n",
              "      <td>29950000</td>\n",
              "    </tr>\n",
              "    <tr>\n",
              "      <th>15</th>\n",
              "      <td>Pasar Bunga Rawabelong</td>\n",
              "      <td>Pakis</td>\n",
              "      <td>1137</td>\n",
              "      <td>Ikat</td>\n",
              "      <td>17055000</td>\n",
              "    </tr>\n",
              "    <tr>\n",
              "      <th>16</th>\n",
              "      <td>Pasar Bunga Rawabelong</td>\n",
              "      <td>Anggrek Dedrobium</td>\n",
              "      <td>1203</td>\n",
              "      <td>Ikat</td>\n",
              "      <td>96240000</td>\n",
              "    </tr>\n",
              "    <tr>\n",
              "      <th>17</th>\n",
              "      <td>Pasar Bunga Rawabelong</td>\n",
              "      <td>Song  of Jamaika</td>\n",
              "      <td>1210</td>\n",
              "      <td>Ikat</td>\n",
              "      <td>12100000</td>\n",
              "    </tr>\n",
              "    <tr>\n",
              "      <th>18</th>\n",
              "      <td>Pasar Bunga Rawabelong</td>\n",
              "      <td>Kandaka</td>\n",
              "      <td>1126</td>\n",
              "      <td>Ikat</td>\n",
              "      <td>16890000</td>\n",
              "    </tr>\n",
              "    <tr>\n",
              "      <th>19</th>\n",
              "      <td>Pasar Bunga Rawabelong</td>\n",
              "      <td>Ros Rontokan  Malang</td>\n",
              "      <td>1303</td>\n",
              "      <td>Ikat</td>\n",
              "      <td>33820000</td>\n",
              "    </tr>\n",
              "  </tbody>\n",
              "</table>\n",
              "</div>\n",
              "      <button class=\"colab-df-convert\" onclick=\"convertToInteractive('df-38abbb8b-07b9-43fd-89b6-aaf4d69b9a1d')\"\n",
              "              title=\"Convert this dataframe to an interactive table.\"\n",
              "              style=\"display:none;\">\n",
              "        \n",
              "  <svg xmlns=\"http://www.w3.org/2000/svg\" height=\"24px\"viewBox=\"0 0 24 24\"\n",
              "       width=\"24px\">\n",
              "    <path d=\"M0 0h24v24H0V0z\" fill=\"none\"/>\n",
              "    <path d=\"M18.56 5.44l.94 2.06.94-2.06 2.06-.94-2.06-.94-.94-2.06-.94 2.06-2.06.94zm-11 1L8.5 8.5l.94-2.06 2.06-.94-2.06-.94L8.5 2.5l-.94 2.06-2.06.94zm10 10l.94 2.06.94-2.06 2.06-.94-2.06-.94-.94-2.06-.94 2.06-2.06.94z\"/><path d=\"M17.41 7.96l-1.37-1.37c-.4-.4-.92-.59-1.43-.59-.52 0-1.04.2-1.43.59L10.3 9.45l-7.72 7.72c-.78.78-.78 2.05 0 2.83L4 21.41c.39.39.9.59 1.41.59.51 0 1.02-.2 1.41-.59l7.78-7.78 2.81-2.81c.8-.78.8-2.07 0-2.86zM5.41 20L4 18.59l7.72-7.72 1.47 1.35L5.41 20z\"/>\n",
              "  </svg>\n",
              "      </button>\n",
              "      \n",
              "  <style>\n",
              "    .colab-df-container {\n",
              "      display:flex;\n",
              "      flex-wrap:wrap;\n",
              "      gap: 12px;\n",
              "    }\n",
              "\n",
              "    .colab-df-convert {\n",
              "      background-color: #E8F0FE;\n",
              "      border: none;\n",
              "      border-radius: 50%;\n",
              "      cursor: pointer;\n",
              "      display: none;\n",
              "      fill: #1967D2;\n",
              "      height: 32px;\n",
              "      padding: 0 0 0 0;\n",
              "      width: 32px;\n",
              "    }\n",
              "\n",
              "    .colab-df-convert:hover {\n",
              "      background-color: #E2EBFA;\n",
              "      box-shadow: 0px 1px 2px rgba(60, 64, 67, 0.3), 0px 1px 3px 1px rgba(60, 64, 67, 0.15);\n",
              "      fill: #174EA6;\n",
              "    }\n",
              "\n",
              "    [theme=dark] .colab-df-convert {\n",
              "      background-color: #3B4455;\n",
              "      fill: #D2E3FC;\n",
              "    }\n",
              "\n",
              "    [theme=dark] .colab-df-convert:hover {\n",
              "      background-color: #434B5C;\n",
              "      box-shadow: 0px 1px 3px 1px rgba(0, 0, 0, 0.15);\n",
              "      filter: drop-shadow(0px 1px 2px rgba(0, 0, 0, 0.3));\n",
              "      fill: #FFFFFF;\n",
              "    }\n",
              "  </style>\n",
              "\n",
              "      <script>\n",
              "        const buttonEl =\n",
              "          document.querySelector('#df-38abbb8b-07b9-43fd-89b6-aaf4d69b9a1d button.colab-df-convert');\n",
              "        buttonEl.style.display =\n",
              "          google.colab.kernel.accessAllowed ? 'block' : 'none';\n",
              "\n",
              "        async function convertToInteractive(key) {\n",
              "          const element = document.querySelector('#df-38abbb8b-07b9-43fd-89b6-aaf4d69b9a1d');\n",
              "          const dataTable =\n",
              "            await google.colab.kernel.invokeFunction('convertToInteractive',\n",
              "                                                     [key], {});\n",
              "          if (!dataTable) return;\n",
              "\n",
              "          const docLinkHtml = 'Like what you see? Visit the ' +\n",
              "            '<a target=\"_blank\" href=https://colab.research.google.com/notebooks/data_table.ipynb>data table notebook</a>'\n",
              "            + ' to learn more about interactive tables.';\n",
              "          element.innerHTML = '';\n",
              "          dataTable['output_type'] = 'display_data';\n",
              "          await google.colab.output.renderOutput(dataTable, element);\n",
              "          const docLink = document.createElement('div');\n",
              "          docLink.innerHTML = docLinkHtml;\n",
              "          element.appendChild(docLink);\n",
              "        }\n",
              "      </script>\n",
              "    </div>\n",
              "  </div>\n",
              "  "
            ]
          },
          "metadata": {},
          "execution_count": 106
        }
      ]
    },
    {
      "cell_type": "code",
      "source": [
        "import matplotlib.pyplot as plt\n",
        "\n",
        "df.plot(kind='scatter', x='volume', y='omzet')\n",
        "\n",
        "plt.title('table penjualan bunga')\n",
        "plt.xlabel('volume')\n",
        "plt.ylabel('omzet')\n",
        "plt.xlim(0, 1350)\n",
        "plt.ylim(0, 35000000)\n",
        "plt.grid(True)\n",
        "plt.show()"
      ],
      "metadata": {
        "colab": {
          "base_uri": "https://localhost:8080/",
          "height": 295
        },
        "id": "UgqPYr5A0c9F",
        "outputId": "31e8d61b-6476-47e8-9465-783164da9488"
      },
      "execution_count": null,
      "outputs": [
        {
          "output_type": "display_data",
          "data": {
            "text/plain": [
              "<Figure size 432x288 with 1 Axes>"
            ],
            "image/png": "[encoded data removed]"
          },
          "metadata": {
            "needs_background": "light"
          }
        }
      ]
    },
    {
      "cell_type": "code",
      "source": [
        "import numpy as np\n",
        "X = np.array(df['volume']) \n",
        "y = np.array(df['omzet']) \n",
        "print(f'X : {X}') \n",
        "print(f'y : {y}')"
      ],
      "metadata": {
        "colab": {
          "base_uri": "https://localhost:8080/"
        },
        "id": "TcVOjy9W1pFO",
        "outputId": "d9061ac3-56be-4bcc-c20d-567b21a91804"
      },
      "execution_count": null,
      "outputs": [
        {
          "output_type": "stream",
          "name": "stdout",
          "text": [
            "X : [ 176  245  325  336  366  403  737  802  836  984 1126 1196 1089 1198\n",
            " 1198 1137 1203 1210 1126 1303]\n",
            "y : [ 8620000  2450000  1625000  8400000  5490000  8060000 14740000 16040000\n",
            "  8250000 21300000 16890000 19875000 27225000 29950000 29950000 17055000\n",
            " 96240000 12100000 16890000 33820000]\n"
          ]
        }
      ]
    },
    {
      "cell_type": "code",
      "source": [
        "X = X.reshape(-1, 1) # Reshapng atau slice data\n",
        "X.shape"
      ],
      "metadata": {
        "colab": {
          "base_uri": "https://localhost:8080/"
        },
        "id": "fHV_HFfH8B2M",
        "outputId": "81e07967-a99f-464f-cf13-90ce1ef7578d"
      },
      "execution_count": null,
      "outputs": [
        {
          "output_type": "execute_result",
          "data": {
            "text/plain": [
              "(20, 1)"
            ]
          },
          "metadata": {},
          "execution_count": 109
        }
      ]
    },
    {
      "cell_type": "code",
      "source": [
        "from sklearn.linear_model import LinearRegression\n",
        "model = LinearRegression() \n",
        "\n",
        "model.fit(X, y)"
      ],
      "metadata": {
        "colab": {
          "base_uri": "https://localhost:8080/"
        },
        "id": "KzGRq6XB8CpP",
        "outputId": "07f34d10-c9d9-46d4-a0f5-707307fa361e"
      },
      "execution_count": null,
      "outputs": [
        {
          "output_type": "execute_result",
          "data": {
            "text/plain": [
              "LinearRegression()"
            ]
          },
          "metadata": {},
          "execution_count": 110
        }
      ]
    },
    {
      "cell_type": "code",
      "source": [
        "X_vis = np.array([0, 1650]).reshape(-1, 1)\n",
        "y_vis = model.predict(X_vis) "
      ],
      "metadata": {
        "id": "c-gLFI7j8E7Z"
      },
      "execution_count": null,
      "outputs": []
    },
    {
      "cell_type": "code",
      "source": [
        "plt.scatter(X, y)\n",
        "plt.plot(X_vis, y_vis,'-r')\n",
        "plt.title('table penjualan bungaa')\n",
        "plt.xlabel('volume')\n",
        "plt.ylabel('omzet')\n",
        "plt.xlim(0, 1350)\n",
        "plt.ylim(0, 35000000)\n",
        "plt.grid(True)\n",
        "plt.show()"
      ],
      "metadata": {
        "colab": {
          "base_uri": "https://localhost:8080/",
          "height": 295
        },
        "id": "WQsrJ7KG8ZP9",
        "outputId": "ebcbbe5e-6d0f-4b4b-cbff-3bf316dddfb0"
      },
      "execution_count": null,
      "outputs": [
        {
          "output_type": "display_data",
          "data": {
            "text/plain": [
              "<Figure size 432x288 with 1 Axes>"
            ],
            "image/png": "[encoded data removed]"
          },
          "metadata": {
            "needs_background": "light"
          }
        }
      ]
    },
    {
      "cell_type": "code",
      "source": [
        "print(f'intercept : {model.intercept_}')\n",
        "print(f'slope : {model.coef_}')"
      ],
      "metadata": {
        "id": "7OUzILFR8aA9",
        "colab": {
          "base_uri": "https://localhost:8080/"
        },
        "outputId": "3be47ff4-256e-4666-8033-7febabedf354"
      },
      "execution_count": null,
      "outputs": [
        {
          "output_type": "stream",
          "name": "stdout",
          "text": [
            "intercept : -4455866.71875136\n",
            "slope : [28482.42729907]\n"
          ]
        }
      ]
    },
    {
      "cell_type": "code",
      "source": [
        "volume = np.array([330, 500, 200, 720,666]).reshape(-1, 1)\n",
        "volume"
      ],
      "metadata": {
        "colab": {
          "base_uri": "https://localhost:8080/"
        },
        "id": "XA4nKBrMtJoC",
        "outputId": "915caded-2eb4-498a-df83-f918cbedfe36"
      },
      "execution_count": null,
      "outputs": [
        {
          "output_type": "execute_result",
          "data": {
            "text/plain": [
              "array([[330],\n",
              "       [500],\n",
              "       [200],\n",
              "       [720],\n",
              "       [666]])"
            ]
          },
          "metadata": {},
          "execution_count": 17
        }
      ]
    },
    {
      "cell_type": "code",
      "source": [
        "prediksi_bunga = model.predict(volume)\n",
        "prediksi_bunga"
      ],
      "metadata": {
        "colab": {
          "base_uri": "https://localhost:8080/"
        },
        "id": "j4cFOTattdUt",
        "outputId": "c974e31f-5f19-446b-baef-782028487ae7"
      },
      "execution_count": null,
      "outputs": [
        {
          "output_type": "execute_result",
          "data": {
            "text/plain": [
              "array([ 4943334.28994239,  9785346.93078463,  1240618.74106304,\n",
              "       16051480.93658046, 14513429.86243057])"
            ]
          },
          "metadata": {},
          "execution_count": 18
        }
      ]
    },
    {
      "cell_type": "code",
      "source": [
        "for volum, index in zip (volume, prediksi_bunga) : \n",
        "  print(f'volume : {volum} prediksi bunga : {index}')"
      ],
      "metadata": {
        "colab": {
          "base_uri": "https://localhost:8080/"
        },
        "id": "qBZDuxO7tj8t",
        "outputId": "e2999fa3-d57a-4b04-f785-a24dba458189"
      },
      "execution_count": null,
      "outputs": [
        {
          "output_type": "stream",
          "name": "stdout",
          "text": [
            "volume : [330] prediksi bunga : 4943334.289942391\n",
            "volume : [500] prediksi bunga : 9785346.930784626\n",
            "volume : [200] prediksi bunga : 1240618.741063035\n",
            "volume : [720] prediksi bunga : 16051480.93658046\n",
            "volume : [666] prediksi bunga : 14513429.862430573\n"
          ]
        }
      ]
    }
  ]
}