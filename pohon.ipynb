{
  "nbformat": 4,
  "nbformat_minor": 0,
  "metadata": {
    "colab": {
      "provenance": []
    },
    "kernelspec": {
      "name": "python3",
      "display_name": "Python 3"
    },
    "language_info": {
      "name": "python"
    }
  },
  "cells": [
    {
      "cell_type": "code",
      "execution_count": null,
      "metadata": {
        "colab": {
          "base_uri": "https://localhost:8080/"
        },
        "id": "z5PElY6_t3I0",
        "outputId": "89198b72-c9db-4e32-f22e-3a6c06d29eea"
      },
      "outputs": [
        {
          "output_type": "stream",
          "name": "stdout",
          "text": [
            "Mounted at /content/drive\n"
          ]
        }
      ],
      "source": [
        "from google.colab import drive\n",
        "drive.mount('/content/drive')"
      ]
    },
    {
      "cell_type": "code",
      "source": [
        "import pandas as pd\n",
        "\n",
        "path ='/content/drive/MyDrive/CSV/pohon2 - Sheet1 - pohon - Sheet1.csv'\n",
        "df = pd.read_csv(path)\n",
        "df.describe()"
      ],
      "metadata": {
        "colab": {
          "base_uri": "https://localhost:8080/",
          "height": 300
        },
        "id": "wTgjO-FMt74a",
        "outputId": "d6ed0cf8-3920-4bcd-8e56-4e1a4bb71f7f"
      },
      "execution_count": null,
      "outputs": [
        {
          "output_type": "execute_result",
          "data": {
            "text/plain": [
              "          volume         omzet\n",
              "count  22.000000  2.200000e+01\n",
              "mean   13.636364  3.400227e+06\n",
              "std    12.823139  3.813511e+06\n",
              "min     2.000000  1.200000e+05\n",
              "25%     3.000000  5.625000e+05\n",
              "50%     9.500000  2.200000e+06\n",
              "75%    18.000000  4.337500e+06\n",
              "max    44.000000  1.470000e+07"
            ],
            "text/html": [
              "\n",
              "  <div id=\"df-e58d38e3-666c-444b-9fee-27f56f61353b\">\n",
              "    <div class=\"colab-df-container\">\n",
              "      <div>\n",
              "<style scoped>\n",
              "    .dataframe tbody tr th:only-of-type {\n",
              "        vertical-align: middle;\n",
              "    }\n",
              "\n",
              "    .dataframe tbody tr th {\n",
              "        vertical-align: top;\n",
              "    }\n",
              "\n",
              "    .dataframe thead th {\n",
              "        text-align: right;\n",
              "    }\n",
              "</style>\n",
              "<table border=\"1\" class=\"dataframe\">\n",
              "  <thead>\n",
              "    <tr style=\"text-align: right;\">\n",
              "      <th></th>\n",
              "      <th>volume</th>\n",
              "      <th>omzet</th>\n",
              "    </tr>\n",
              "  </thead>\n",
              "  <tbody>\n",
              "    <tr>\n",
              "      <th>count</th>\n",
              "      <td>22.000000</td>\n",
              "      <td>2.200000e+01</td>\n",
              "    </tr>\n",
              "    <tr>\n",
              "      <th>mean</th>\n",
              "      <td>13.636364</td>\n",
              "      <td>3.400227e+06</td>\n",
              "    </tr>\n",
              "    <tr>\n",
              "      <th>std</th>\n",
              "      <td>12.823139</td>\n",
              "      <td>3.813511e+06</td>\n",
              "    </tr>\n",
              "    <tr>\n",
              "      <th>min</th>\n",
              "      <td>2.000000</td>\n",
              "      <td>1.200000e+05</td>\n",
              "    </tr>\n",
              "    <tr>\n",
              "      <th>25%</th>\n",
              "      <td>3.000000</td>\n",
              "      <td>5.625000e+05</td>\n",
              "    </tr>\n",
              "    <tr>\n",
              "      <th>50%</th>\n",
              "      <td>9.500000</td>\n",
              "      <td>2.200000e+06</td>\n",
              "    </tr>\n",
              "    <tr>\n",
              "      <th>75%</th>\n",
              "      <td>18.000000</td>\n",
              "      <td>4.337500e+06</td>\n",
              "    </tr>\n",
              "    <tr>\n",
              "      <th>max</th>\n",
              "      <td>44.000000</td>\n",
              "      <td>1.470000e+07</td>\n",
              "    </tr>\n",
              "  </tbody>\n",
              "</table>\n",
              "</div>\n",
              "      <button class=\"colab-df-convert\" onclick=\"convertToInteractive('df-e58d38e3-666c-444b-9fee-27f56f61353b')\"\n",
              "              title=\"Convert this dataframe to an interactive table.\"\n",
              "              style=\"display:none;\">\n",
              "        \n",
              "  <svg xmlns=\"http://www.w3.org/2000/svg\" height=\"24px\"viewBox=\"0 0 24 24\"\n",
              "       width=\"24px\">\n",
              "    <path d=\"M0 0h24v24H0V0z\" fill=\"none\"/>\n",
              "    <path d=\"M18.56 5.44l.94 2.06.94-2.06 2.06-.94-2.06-.94-.94-2.06-.94 2.06-2.06.94zm-11 1L8.5 8.5l.94-2.06 2.06-.94-2.06-.94L8.5 2.5l-.94 2.06-2.06.94zm10 10l.94 2.06.94-2.06 2.06-.94-2.06-.94-.94-2.06-.94 2.06-2.06.94z\"/><path d=\"M17.41 7.96l-1.37-1.37c-.4-.4-.92-.59-1.43-.59-.52 0-1.04.2-1.43.59L10.3 9.45l-7.72 7.72c-.78.78-.78 2.05 0 2.83L4 21.41c.39.39.9.59 1.41.59.51 0 1.02-.2 1.41-.59l7.78-7.78 2.81-2.81c.8-.78.8-2.07 0-2.86zM5.41 20L4 18.59l7.72-7.72 1.47 1.35L5.41 20z\"/>\n",
              "  </svg>\n",
              "      </button>\n",
              "      \n",
              "  <style>\n",
              "    .colab-df-container {\n",
              "      display:flex;\n",
              "      flex-wrap:wrap;\n",
              "      gap: 12px;\n",
              "    }\n",
              "\n",
              "    .colab-df-convert {\n",
              "      background-color: #E8F0FE;\n",
              "      border: none;\n",
              "      border-radius: 50%;\n",
              "      cursor: pointer;\n",
              "      display: none;\n",
              "      fill: #1967D2;\n",
              "      height: 32px;\n",
              "      padding: 0 0 0 0;\n",
              "      width: 32px;\n",
              "    }\n",
              "\n",
              "    .colab-df-convert:hover {\n",
              "      background-color: #E2EBFA;\n",
              "      box-shadow: 0px 1px 2px rgba(60, 64, 67, 0.3), 0px 1px 3px 1px rgba(60, 64, 67, 0.15);\n",
              "      fill: #174EA6;\n",
              "    }\n",
              "\n",
              "    [theme=dark] .colab-df-convert {\n",
              "      background-color: #3B4455;\n",
              "      fill: #D2E3FC;\n",
              "    }\n",
              "\n",
              "    [theme=dark] .colab-df-convert:hover {\n",
              "      background-color: #434B5C;\n",
              "      box-shadow: 0px 1px 3px 1px rgba(0, 0, 0, 0.15);\n",
              "      filter: drop-shadow(0px 1px 2px rgba(0, 0, 0, 0.3));\n",
              "      fill: #FFFFFF;\n",
              "    }\n",
              "  </style>\n",
              "\n",
              "      <script>\n",
              "        const buttonEl =\n",
              "          document.querySelector('#df-e58d38e3-666c-444b-9fee-27f56f61353b button.colab-df-convert');\n",
              "        buttonEl.style.display =\n",
              "          google.colab.kernel.accessAllowed ? 'block' : 'none';\n",
              "\n",
              "        async function convertToInteractive(key) {\n",
              "          const element = document.querySelector('#df-e58d38e3-666c-444b-9fee-27f56f61353b');\n",
              "          const dataTable =\n",
              "            await google.colab.kernel.invokeFunction('convertToInteractive',\n",
              "                                                     [key], {});\n",
              "          if (!dataTable) return;\n",
              "\n",
              "          const docLinkHtml = 'Like what you see? Visit the ' +\n",
              "            '<a target=\"_blank\" href=https://colab.research.google.com/notebooks/data_table.ipynb>data table notebook</a>'\n",
              "            + ' to learn more about interactive tables.';\n",
              "          element.innerHTML = '';\n",
              "          dataTable['output_type'] = 'display_data';\n",
              "          await google.colab.output.renderOutput(dataTable, element);\n",
              "          const docLink = document.createElement('div');\n",
              "          docLink.innerHTML = docLinkHtml;\n",
              "          element.appendChild(docLink);\n",
              "        }\n",
              "      </script>\n",
              "    </div>\n",
              "  </div>\n",
              "  "
            ]
          },
          "metadata": {},
          "execution_count": 36
        }
      ]
    },
    {
      "cell_type": "code",
      "source": [
        "df"
      ],
      "metadata": {
        "colab": {
          "base_uri": "https://localhost:8080/",
          "height": 739
        },
        "id": "t_tGoRN9u_wi",
        "outputId": "8238f677-dad0-468b-db3e-4e5b339c2a7f"
      },
      "execution_count": null,
      "outputs": [
        {
          "output_type": "execute_result",
          "data": {
            "text/plain": [
              "                     lokasi              jenis  volume satuan     omzet\n",
              "0   Penangkar Bibit Ragunan               Leci       2  Pohon    120000\n",
              "1   Penangkar Bibit Ragunan              Matoa       3  Pohon    210000\n",
              "2   Penangkar Bibit Ragunan            Menteng       3  Pohon    450000\n",
              "3   Penangkar Bibit Ragunan        Pohon sukun       3  Pohon    750000\n",
              "4   Penangkar Bibit Ragunan               Duku       3  Pohon    450000\n",
              "5   Penangkar Bibit Ragunan         Kedongdong       3  Pohon    375000\n",
              "6   Penangkar Bibit Ragunan        sawo betawi       5  Pohon    750000\n",
              "7   Penangkar Bibit Ragunan      Jamblang ungu       2  Pohon    500000\n",
              "8   Penangkar Bibit Ragunan     Belimbing Dewi       5  Pohon    750000\n",
              "9   Penangkar Bibit Ragunan         Jeruk limo      13  Pohon   1950000\n",
              "10  Penangkar Bibit Ragunan  belimbing diamond       8  Pohon   2000000\n",
              "11  Penangkar Bibit Ragunan      Jeruk limonti      16  Pohon   2400000\n",
              "12  Penangkar Bibit Ragunan        Jeruk purut      23  Pohon   3450000\n",
              "13  Penangkar Bibit Ragunan        Jeruk Nipis      14  Pohon   3500000\n",
              "14  Penangkar Bibit Ragunan         Jeruk Bali      18  Pohon   3600000\n",
              "15  Penangkar Bibit Ragunan    Rambutan ropiah      11  Pohon   3850000\n",
              "16  Penangkar Bibit Ragunan          Jeruk Kip      18  Pohon   4500000\n",
              "17  Penangkar Bibit Ragunan      Mangga ciojao       7  Pohon   5250000\n",
              "18  Penangkar Bibit Ragunan    Mangga Manalagi      22  Pohon   5500000\n",
              "19  Penangkar Bibit Ragunan     Durian Montong      35  Pohon   8750000\n",
              "20  Penangkar Bibit Ragunan       Jeruk Nagami      44  Pohon  11000000\n",
              "21  Penangkar Bibit Ragunan    Durian Sitokong      42  Pohon  14700000"
            ],
            "text/html": [
              "\n",
              "  <div id=\"df-931b1631-6fb5-4b79-9c46-c45400afd518\">\n",
              "    <div class=\"colab-df-container\">\n",
              "      <div>\n",
              "<style scoped>\n",
              "    .dataframe tbody tr th:only-of-type {\n",
              "        vertical-align: middle;\n",
              "    }\n",
              "\n",
              "    .dataframe tbody tr th {\n",
              "        vertical-align: top;\n",
              "    }\n",
              "\n",
              "    .dataframe thead th {\n",
              "        text-align: right;\n",
              "    }\n",
              "</style>\n",
              "<table border=\"1\" class=\"dataframe\">\n",
              "  <thead>\n",
              "    <tr style=\"text-align: right;\">\n",
              "      <th></th>\n",
              "      <th>lokasi</th>\n",
              "      <th>jenis</th>\n",
              "      <th>volume</th>\n",
              "      <th>satuan</th>\n",
              "      <th>omzet</th>\n",
              "    </tr>\n",
              "  </thead>\n",
              "  <tbody>\n",
              "    <tr>\n",
              "      <th>0</th>\n",
              "      <td>Penangkar Bibit Ragunan</td>\n",
              "      <td>Leci</td>\n",
              "      <td>2</td>\n",
              "      <td>Pohon</td>\n",
              "      <td>120000</td>\n",
              "    </tr>\n",
              "    <tr>\n",
              "      <th>1</th>\n",
              "      <td>Penangkar Bibit Ragunan</td>\n",
              "      <td>Matoa</td>\n",
              "      <td>3</td>\n",
              "      <td>Pohon</td>\n",
              "      <td>210000</td>\n",
              "    </tr>\n",
              "    <tr>\n",
              "      <th>2</th>\n",
              "      <td>Penangkar Bibit Ragunan</td>\n",
              "      <td>Menteng</td>\n",
              "      <td>3</td>\n",
              "      <td>Pohon</td>\n",
              "      <td>450000</td>\n",
              "    </tr>\n",
              "    <tr>\n",
              "      <th>3</th>\n",
              "      <td>Penangkar Bibit Ragunan</td>\n",
              "      <td>Pohon sukun</td>\n",
              "      <td>3</td>\n",
              "      <td>Pohon</td>\n",
              "      <td>750000</td>\n",
              "    </tr>\n",
              "    <tr>\n",
              "      <th>4</th>\n",
              "      <td>Penangkar Bibit Ragunan</td>\n",
              "      <td>Duku</td>\n",
              "      <td>3</td>\n",
              "      <td>Pohon</td>\n",
              "      <td>450000</td>\n",
              "    </tr>\n",
              "    <tr>\n",
              "      <th>5</th>\n",
              "      <td>Penangkar Bibit Ragunan</td>\n",
              "      <td>Kedongdong</td>\n",
              "      <td>3</td>\n",
              "      <td>Pohon</td>\n",
              "      <td>375000</td>\n",
              "    </tr>\n",
              "    <tr>\n",
              "      <th>6</th>\n",
              "      <td>Penangkar Bibit Ragunan</td>\n",
              "      <td>sawo betawi</td>\n",
              "      <td>5</td>\n",
              "      <td>Pohon</td>\n",
              "      <td>750000</td>\n",
              "    </tr>\n",
              "    <tr>\n",
              "      <th>7</th>\n",
              "      <td>Penangkar Bibit Ragunan</td>\n",
              "      <td>Jamblang ungu</td>\n",
              "      <td>2</td>\n",
              "      <td>Pohon</td>\n",
              "      <td>500000</td>\n",
              "    </tr>\n",
              "    <tr>\n",
              "      <th>8</th>\n",
              "      <td>Penangkar Bibit Ragunan</td>\n",
              "      <td>Belimbing Dewi</td>\n",
              "      <td>5</td>\n",
              "      <td>Pohon</td>\n",
              "      <td>750000</td>\n",
              "    </tr>\n",
              "    <tr>\n",
              "      <th>9</th>\n",
              "      <td>Penangkar Bibit Ragunan</td>\n",
              "      <td>Jeruk limo</td>\n",
              "      <td>13</td>\n",
              "      <td>Pohon</td>\n",
              "      <td>1950000</td>\n",
              "    </tr>\n",
              "    <tr>\n",
              "      <th>10</th>\n",
              "      <td>Penangkar Bibit Ragunan</td>\n",
              "      <td>belimbing diamond</td>\n",
              "      <td>8</td>\n",
              "      <td>Pohon</td>\n",
              "      <td>2000000</td>\n",
              "    </tr>\n",
              "    <tr>\n",
              "      <th>11</th>\n",
              "      <td>Penangkar Bibit Ragunan</td>\n",
              "      <td>Jeruk limonti</td>\n",
              "      <td>16</td>\n",
              "      <td>Pohon</td>\n",
              "      <td>2400000</td>\n",
              "    </tr>\n",
              "    <tr>\n",
              "      <th>12</th>\n",
              "      <td>Penangkar Bibit Ragunan</td>\n",
              "      <td>Jeruk purut</td>\n",
              "      <td>23</td>\n",
              "      <td>Pohon</td>\n",
              "      <td>3450000</td>\n",
              "    </tr>\n",
              "    <tr>\n",
              "      <th>13</th>\n",
              "      <td>Penangkar Bibit Ragunan</td>\n",
              "      <td>Jeruk Nipis</td>\n",
              "      <td>14</td>\n",
              "      <td>Pohon</td>\n",
              "      <td>3500000</td>\n",
              "    </tr>\n",
              "    <tr>\n",
              "      <th>14</th>\n",
              "      <td>Penangkar Bibit Ragunan</td>\n",
              "      <td>Jeruk Bali</td>\n",
              "      <td>18</td>\n",
              "      <td>Pohon</td>\n",
              "      <td>3600000</td>\n",
              "    </tr>\n",
              "    <tr>\n",
              "      <th>15</th>\n",
              "      <td>Penangkar Bibit Ragunan</td>\n",
              "      <td>Rambutan ropiah</td>\n",
              "      <td>11</td>\n",
              "      <td>Pohon</td>\n",
              "      <td>3850000</td>\n",
              "    </tr>\n",
              "    <tr>\n",
              "      <th>16</th>\n",
              "      <td>Penangkar Bibit Ragunan</td>\n",
              "      <td>Jeruk Kip</td>\n",
              "      <td>18</td>\n",
              "      <td>Pohon</td>\n",
              "      <td>4500000</td>\n",
              "    </tr>\n",
              "    <tr>\n",
              "      <th>17</th>\n",
              "      <td>Penangkar Bibit Ragunan</td>\n",
              "      <td>Mangga ciojao</td>\n",
              "      <td>7</td>\n",
              "      <td>Pohon</td>\n",
              "      <td>5250000</td>\n",
              "    </tr>\n",
              "    <tr>\n",
              "      <th>18</th>\n",
              "      <td>Penangkar Bibit Ragunan</td>\n",
              "      <td>Mangga Manalagi</td>\n",
              "      <td>22</td>\n",
              "      <td>Pohon</td>\n",
              "      <td>5500000</td>\n",
              "    </tr>\n",
              "    <tr>\n",
              "      <th>19</th>\n",
              "      <td>Penangkar Bibit Ragunan</td>\n",
              "      <td>Durian Montong</td>\n",
              "      <td>35</td>\n",
              "      <td>Pohon</td>\n",
              "      <td>8750000</td>\n",
              "    </tr>\n",
              "    <tr>\n",
              "      <th>20</th>\n",
              "      <td>Penangkar Bibit Ragunan</td>\n",
              "      <td>Jeruk Nagami</td>\n",
              "      <td>44</td>\n",
              "      <td>Pohon</td>\n",
              "      <td>11000000</td>\n",
              "    </tr>\n",
              "    <tr>\n",
              "      <th>21</th>\n",
              "      <td>Penangkar Bibit Ragunan</td>\n",
              "      <td>Durian Sitokong</td>\n",
              "      <td>42</td>\n",
              "      <td>Pohon</td>\n",
              "      <td>14700000</td>\n",
              "    </tr>\n",
              "  </tbody>\n",
              "</table>\n",
              "</div>\n",
              "      <button class=\"colab-df-convert\" onclick=\"convertToInteractive('df-931b1631-6fb5-4b79-9c46-c45400afd518')\"\n",
              "              title=\"Convert this dataframe to an interactive table.\"\n",
              "              style=\"display:none;\">\n",
              "        \n",
              "  <svg xmlns=\"http://www.w3.org/2000/svg\" height=\"24px\"viewBox=\"0 0 24 24\"\n",
              "       width=\"24px\">\n",
              "    <path d=\"M0 0h24v24H0V0z\" fill=\"none\"/>\n",
              "    <path d=\"M18.56 5.44l.94 2.06.94-2.06 2.06-.94-2.06-.94-.94-2.06-.94 2.06-2.06.94zm-11 1L8.5 8.5l.94-2.06 2.06-.94-2.06-.94L8.5 2.5l-.94 2.06-2.06.94zm10 10l.94 2.06.94-2.06 2.06-.94-2.06-.94-.94-2.06-.94 2.06-2.06.94z\"/><path d=\"M17.41 7.96l-1.37-1.37c-.4-.4-.92-.59-1.43-.59-.52 0-1.04.2-1.43.59L10.3 9.45l-7.72 7.72c-.78.78-.78 2.05 0 2.83L4 21.41c.39.39.9.59 1.41.59.51 0 1.02-.2 1.41-.59l7.78-7.78 2.81-2.81c.8-.78.8-2.07 0-2.86zM5.41 20L4 18.59l7.72-7.72 1.47 1.35L5.41 20z\"/>\n",
              "  </svg>\n",
              "      </button>\n",
              "      \n",
              "  <style>\n",
              "    .colab-df-container {\n",
              "      display:flex;\n",
              "      flex-wrap:wrap;\n",
              "      gap: 12px;\n",
              "    }\n",
              "\n",
              "    .colab-df-convert {\n",
              "      background-color: #E8F0FE;\n",
              "      border: none;\n",
              "      border-radius: 50%;\n",
              "      cursor: pointer;\n",
              "      display: none;\n",
              "      fill: #1967D2;\n",
              "      height: 32px;\n",
              "      padding: 0 0 0 0;\n",
              "      width: 32px;\n",
              "    }\n",
              "\n",
              "    .colab-df-convert:hover {\n",
              "      background-color: #E2EBFA;\n",
              "      box-shadow: 0px 1px 2px rgba(60, 64, 67, 0.3), 0px 1px 3px 1px rgba(60, 64, 67, 0.15);\n",
              "      fill: #174EA6;\n",
              "    }\n",
              "\n",
              "    [theme=dark] .colab-df-convert {\n",
              "      background-color: #3B4455;\n",
              "      fill: #D2E3FC;\n",
              "    }\n",
              "\n",
              "    [theme=dark] .colab-df-convert:hover {\n",
              "      background-color: #434B5C;\n",
              "      box-shadow: 0px 1px 3px 1px rgba(0, 0, 0, 0.15);\n",
              "      filter: drop-shadow(0px 1px 2px rgba(0, 0, 0, 0.3));\n",
              "      fill: #FFFFFF;\n",
              "    }\n",
              "  </style>\n",
              "\n",
              "      <script>\n",
              "        const buttonEl =\n",
              "          document.querySelector('#df-931b1631-6fb5-4b79-9c46-c45400afd518 button.colab-df-convert');\n",
              "        buttonEl.style.display =\n",
              "          google.colab.kernel.accessAllowed ? 'block' : 'none';\n",
              "\n",
              "        async function convertToInteractive(key) {\n",
              "          const element = document.querySelector('#df-931b1631-6fb5-4b79-9c46-c45400afd518');\n",
              "          const dataTable =\n",
              "            await google.colab.kernel.invokeFunction('convertToInteractive',\n",
              "                                                     [key], {});\n",
              "          if (!dataTable) return;\n",
              "\n",
              "          const docLinkHtml = 'Like what you see? Visit the ' +\n",
              "            '<a target=\"_blank\" href=https://colab.research.google.com/notebooks/data_table.ipynb>data table notebook</a>'\n",
              "            + ' to learn more about interactive tables.';\n",
              "          element.innerHTML = '';\n",
              "          dataTable['output_type'] = 'display_data';\n",
              "          await google.colab.output.renderOutput(dataTable, element);\n",
              "          const docLink = document.createElement('div');\n",
              "          docLink.innerHTML = docLinkHtml;\n",
              "          element.appendChild(docLink);\n",
              "        }\n",
              "      </script>\n",
              "    </div>\n",
              "  </div>\n",
              "  "
            ]
          },
          "metadata": {},
          "execution_count": 38
        }
      ]
    },
    {
      "cell_type": "code",
      "source": [
        "import matplotlib.pyplot as plt\n",
        "\n",
        "df.plot(kind='scatter', x='volume', y='omzet')\n",
        "\n",
        "plt.title('table penjualan bunga')\n",
        "plt.xlabel('volume')\n",
        "plt.ylabel('omzet')\n",
        "plt.xlim(0, 50)\n",
        "plt.ylim(0, 16000000)\n",
        "plt.grid(True)\n",
        "plt.show()"
      ],
      "metadata": {
        "id": "FclBf0iXvANL",
        "colab": {
          "base_uri": "https://localhost:8080/",
          "height": 295
        },
        "outputId": "a52590ac-56d1-4a64-e7e5-b92d8e11a62c"
      },
      "execution_count": null,
      "outputs": [
        {
          "output_type": "display_data",
          "data": {
            "text/plain": [
              "<Figure size 432x288 with 1 Axes>"
            ],
            "image/png": "[encoded data removed]"
          },
          "metadata": {
            "needs_background": "light"
          }
        }
      ]
    },
    {
      "cell_type": "code",
      "source": [
        "import numpy as np\n",
        "X = np.array(df['volume']) \n",
        "y = np.array(df['omzet']) \n",
        "print(f'X : {X}') \n",
        "print(f'y : {y}')"
      ],
      "metadata": {
        "colab": {
          "base_uri": "https://localhost:8080/"
        },
        "id": "iDlMaskWt-dL",
        "outputId": "0c0d280f-f99f-48c6-db4c-f718ad606a2c"
      },
      "execution_count": null,
      "outputs": [
        {
          "output_type": "stream",
          "name": "stdout",
          "text": [
            "X : [ 2  3  3  3  3  3  5  2  5 13  8 16 23 14 18 11 18  7 22 35 44 42]\n",
            "y : [  120000   210000   450000   750000   450000   375000   750000   500000\n",
            "   750000  1950000  2000000  2400000  3450000  3500000  3600000  3850000\n",
            "  4500000  5250000  5500000  8750000 11000000 14700000]\n"
          ]
        }
      ]
    },
    {
      "cell_type": "code",
      "source": [
        "X = X.reshape(-1, 1) # Reshapng atau slice data\n",
        "X.shape"
      ],
      "metadata": {
        "colab": {
          "base_uri": "https://localhost:8080/"
        },
        "id": "-3OjPHIIuA2i",
        "outputId": "e2580746-f6b5-4332-8041-00824798a09a"
      },
      "execution_count": null,
      "outputs": [
        {
          "output_type": "execute_result",
          "data": {
            "text/plain": [
              "(22, 1)"
            ]
          },
          "metadata": {},
          "execution_count": 41
        }
      ]
    },
    {
      "cell_type": "code",
      "source": [
        "from sklearn.linear_model import LinearRegression\n",
        "model = LinearRegression() \n",
        "\n",
        "model.fit(X, y)"
      ],
      "metadata": {
        "colab": {
          "base_uri": "https://localhost:8080/"
        },
        "id": "0zR9hqKEuC5j",
        "outputId": "a2aa14fa-fa07-4bf0-ef5b-660d99a826ad"
      },
      "execution_count": null,
      "outputs": [
        {
          "output_type": "execute_result",
          "data": {
            "text/plain": [
              "LinearRegression()"
            ]
          },
          "metadata": {},
          "execution_count": 42
        }
      ]
    },
    {
      "cell_type": "code",
      "source": [
        "X_vis = np.array([0, 50]).reshape(-1, 1)\n",
        "y_vis = model.predict(X_vis) "
      ],
      "metadata": {
        "id": "8tj6qqDpuEoW"
      },
      "execution_count": null,
      "outputs": []
    },
    {
      "cell_type": "code",
      "source": [
        "plt.scatter(X, y)\n",
        "plt.plot(X_vis, y_vis,'-r')\n",
        "plt.title('table penjualan bungaa')\n",
        "plt.xlabel('volume')\n",
        "plt.ylabel('omzet')\n",
        "plt.xlim(0, 50)\n",
        "plt.ylim(0, 16000000)\n",
        "plt.grid(True)\n",
        "plt.show()"
      ],
      "metadata": {
        "colab": {
          "base_uri": "https://localhost:8080/",
          "height": 295
        },
        "id": "XJ-ih3RXuGp2",
        "outputId": "210fb084-f4fc-42fa-bd9e-378c97b22568"
      },
      "execution_count": null,
      "outputs": [
        {
          "output_type": "display_data",
          "data": {
            "text/plain": [
              "<Figure size 432x288 with 1 Axes>"
            ],
            "image/png": "[encoded data removed]"
          },
          "metadata": {
            "needs_background": "light"
          }
        }
      ]
    },
    {
      "cell_type": "code",
      "source": [
        "print(f'intercept : {model.intercept_}')\n",
        "print(f'slope : {model.coef_}')"
      ],
      "metadata": {
        "colab": {
          "base_uri": "https://localhost:8080/"
        },
        "id": "xHjPUObuupKB",
        "outputId": "76c16744-5ccd-4552-8d69-843c35f05284"
      },
      "execution_count": null,
      "outputs": [
        {
          "output_type": "stream",
          "name": "stdout",
          "text": [
            "intercept : -379101.463774221\n",
            "slope : [277150.77401011]\n"
          ]
        }
      ]
    },
    {
      "cell_type": "code",
      "source": [
        "volume = np.array([33, 40, 25, 20,66]).reshape(-1, 1)\n",
        "volume"
      ],
      "metadata": {
        "colab": {
          "base_uri": "https://localhost:8080/"
        },
        "id": "KLtJBJQYupkj",
        "outputId": "7d4aaeed-f6c9-43f2-a26a-5dfaabdc59f6"
      },
      "execution_count": null,
      "outputs": [
        {
          "output_type": "execute_result",
          "data": {
            "text/plain": [
              "array([[33],\n",
              "       [40],\n",
              "       [25],\n",
              "       [20],\n",
              "       [66]])"
            ]
          },
          "metadata": {},
          "execution_count": 46
        }
      ]
    },
    {
      "cell_type": "code",
      "source": [
        "prediksi_bunga = model.predict(volume)\n",
        "prediksi_bunga"
      ],
      "metadata": {
        "colab": {
          "base_uri": "https://localhost:8080/"
        },
        "id": "zkZHvCmgurvz",
        "outputId": "6c388755-9bf7-452f-a252-a305f66c664c"
      },
      "execution_count": null,
      "outputs": [
        {
          "output_type": "execute_result",
          "data": {
            "text/plain": [
              "array([ 8766874.07855939, 10706929.49663016,  6549667.88647852,\n",
              "        5163914.01642797, 17912849.62089301])"
            ]
          },
          "metadata": {},
          "execution_count": 47
        }
      ]
    },
    {
      "cell_type": "code",
      "source": [
        "for volum, index in zip (volume, prediksi_bunga) : \n",
        "  print(f'volume : {volum} prediksi bunga : {index}')"
      ],
      "metadata": {
        "colab": {
          "base_uri": "https://localhost:8080/"
        },
        "id": "I8kggmdiuv57",
        "outputId": "4d90d545-4652-4fdf-e93c-50bff73d0da6"
      },
      "execution_count": null,
      "outputs": [
        {
          "output_type": "stream",
          "name": "stdout",
          "text": [
            "volume : [33] prediksi bunga : 8766874.078559393\n",
            "volume : [40] prediksi bunga : 10706929.49663016\n",
            "volume : [25] prediksi bunga : 6549667.886478517\n",
            "volume : [20] prediksi bunga : 5163914.01642797\n",
            "volume : [66] prediksi bunga : 17912849.62089301\n"
          ]
        }
      ]
    },
    {
      "cell_type": "code",
      "source": [],
      "metadata": {
        "id": "k7TuD9ptu4X9"
      },
      "execution_count": null,
      "outputs": []
    }
  ]
}